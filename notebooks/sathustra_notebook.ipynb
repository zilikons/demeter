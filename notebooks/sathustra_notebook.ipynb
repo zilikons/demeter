{
 "cells": [
  {
   "cell_type": "code",
   "execution_count": 1,
   "metadata": {},
   "outputs": [
    {
     "name": "stdout",
     "output_type": "stream",
     "text": [
      "Collecting geopandas\n",
      "  Using cached geopandas-0.12.2-py3-none-any.whl (1.1 MB)\n",
      "Collecting shapely>=1.7\n",
      "  Using cached shapely-2.0.1-cp310-cp310-macosx_11_0_arm64.whl (1.2 MB)\n",
      "Requirement already satisfied: packaging in /Users/nico/.pyenv/versions/3.10.6/envs/demeter/lib/python3.10/site-packages (from geopandas) (23.0)\n",
      "Collecting fiona>=1.8\n",
      "  Using cached Fiona-1.9.1-cp310-cp310-macosx_11_0_arm64.whl (14.5 MB)\n",
      "Collecting pyproj>=2.6.1.post1\n",
      "  Using cached pyproj-3.4.1-cp310-cp310-macosx_11_0_arm64.whl (5.7 MB)\n",
      "Collecting pandas>=1.0.0\n",
      "  Using cached pandas-1.5.3-cp310-cp310-macosx_11_0_arm64.whl (10.9 MB)\n",
      "Collecting attrs>=19.2.0\n",
      "  Using cached attrs-22.2.0-py3-none-any.whl (60 kB)\n",
      "Collecting click-plugins>=1.0\n",
      "  Using cached click_plugins-1.1.1-py2.py3-none-any.whl (7.5 kB)\n",
      "Collecting munch>=2.3.2\n",
      "  Using cached munch-2.5.0-py2.py3-none-any.whl (10 kB)\n",
      "Collecting certifi\n",
      "  Using cached certifi-2022.12.7-py3-none-any.whl (155 kB)\n",
      "Collecting cligj>=0.5\n",
      "  Using cached cligj-0.7.2-py3-none-any.whl (7.1 kB)\n",
      "Requirement already satisfied: setuptools in /Users/nico/.pyenv/versions/3.10.6/envs/demeter/lib/python3.10/site-packages (from fiona>=1.8->geopandas) (63.2.0)\n",
      "Collecting click~=8.0\n",
      "  Using cached click-8.1.3-py3-none-any.whl (96 kB)\n",
      "Requirement already satisfied: python-dateutil>=2.8.1 in /Users/nico/.pyenv/versions/3.10.6/envs/demeter/lib/python3.10/site-packages (from pandas>=1.0.0->geopandas) (2.8.2)\n",
      "Collecting numpy>=1.21.0\n",
      "  Downloading numpy-1.24.2-cp310-cp310-macosx_11_0_arm64.whl (13.9 MB)\n",
      "\u001b[2K     \u001b[90m━━━━━━━━━━━━━━━━━━━━━━━━━━━━━━━━━━━━━━━━\u001b[0m \u001b[32m13.9/13.9 MB\u001b[0m \u001b[31m15.7 MB/s\u001b[0m eta \u001b[36m0:00:00\u001b[0m00:01\u001b[0m00:01\u001b[0m\n",
      "\u001b[?25hCollecting pytz>=2020.1\n",
      "  Using cached pytz-2022.7.1-py2.py3-none-any.whl (499 kB)\n",
      "Requirement already satisfied: six in /Users/nico/.pyenv/versions/3.10.6/envs/demeter/lib/python3.10/site-packages (from munch>=2.3.2->fiona>=1.8->geopandas) (1.16.0)\n",
      "Installing collected packages: pytz, numpy, munch, click, certifi, attrs, shapely, pyproj, pandas, cligj, click-plugins, fiona, geopandas\n",
      "Successfully installed attrs-22.2.0 certifi-2022.12.7 click-8.1.3 click-plugins-1.1.1 cligj-0.7.2 fiona-1.9.1 geopandas-0.12.2 munch-2.5.0 numpy-1.24.2 pandas-1.5.3 pyproj-3.4.1 pytz-2022.7.1 shapely-2.0.1\n",
      "\n",
      "\u001b[1m[\u001b[0m\u001b[34;49mnotice\u001b[0m\u001b[1;39;49m]\u001b[0m\u001b[39;49m A new release of pip available: \u001b[0m\u001b[31;49m22.2.1\u001b[0m\u001b[39;49m -> \u001b[0m\u001b[32;49m23.0.1\u001b[0m\n",
      "\u001b[1m[\u001b[0m\u001b[34;49mnotice\u001b[0m\u001b[1;39;49m]\u001b[0m\u001b[39;49m To update, run: \u001b[0m\u001b[32;49mpip install --upgrade pip\u001b[0m\n"
     ]
    }
   ],
   "source": [
    "!pip install geopandas \n",
    "import geopandas as gdp"
   ]
  },
  {
   "cell_type": "code",
   "execution_count": null,
   "metadata": {},
   "outputs": [],
   "source": []
  }
 ],
 "metadata": {
  "kernelspec": {
   "display_name": "demeter",
   "language": "python",
   "name": "python3"
  },
  "language_info": {
   "codemirror_mode": {
    "name": "ipython",
    "version": 3
   },
   "file_extension": ".py",
   "mimetype": "text/x-python",
   "name": "python",
   "nbconvert_exporter": "python",
   "pygments_lexer": "ipython3",
   "version": "3.10.6"
  },
  "orig_nbformat": 4
 },
 "nbformat": 4,
 "nbformat_minor": 2
}
