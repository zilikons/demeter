{
 "cells": [
  {
   "cell_type": "code",
   "execution_count": 12,
   "metadata": {},
   "outputs": [],
   "source": [
    "import geopandas as gpd\n",
    "import pandas as pd"
   ]
  },
  {
   "cell_type": "code",
   "execution_count": 3,
   "metadata": {},
   "outputs": [],
   "source": [
    "germany = gpd.read_file('../raw_data/germany.json')"
   ]
  },
  {
   "cell_type": "code",
   "execution_count": 36,
   "metadata": {},
   "outputs": [
    {
     "data": {
      "text/html": [
       "<div>\n",
       "<style scoped>\n",
       "    .dataframe tbody tr th:only-of-type {\n",
       "        vertical-align: middle;\n",
       "    }\n",
       "\n",
       "    .dataframe tbody tr th {\n",
       "        vertical-align: top;\n",
       "    }\n",
       "\n",
       "    .dataframe thead th {\n",
       "        text-align: right;\n",
       "    }\n",
       "</style>\n",
       "<table border=\"1\" class=\"dataframe\">\n",
       "  <thead>\n",
       "    <tr style=\"text-align: right;\">\n",
       "      <th></th>\n",
       "      <th>GID_3</th>\n",
       "      <th>GID_0</th>\n",
       "      <th>COUNTRY</th>\n",
       "      <th>GID_1</th>\n",
       "      <th>NAME_1</th>\n",
       "      <th>NL_NAME_1</th>\n",
       "      <th>GID_2</th>\n",
       "      <th>NAME_2</th>\n",
       "      <th>NL_NAME_2</th>\n",
       "      <th>NAME_3</th>\n",
       "      <th>VARNAME_3</th>\n",
       "      <th>NL_NAME_3</th>\n",
       "      <th>TYPE_3</th>\n",
       "      <th>ENGTYPE_3</th>\n",
       "      <th>CC_3</th>\n",
       "      <th>HASC_3</th>\n",
       "      <th>geometry</th>\n",
       "    </tr>\n",
       "  </thead>\n",
       "  <tbody>\n",
       "    <tr>\n",
       "      <th>0</th>\n",
       "      <td>DEU.1.1.1_1</td>\n",
       "      <td>DEU</td>\n",
       "      <td>Germany</td>\n",
       "      <td>DEU.1_1</td>\n",
       "      <td>Baden-Württemberg</td>\n",
       "      <td>NA</td>\n",
       "      <td>DEU.1.1_1</td>\n",
       "      <td>Alb-Donau-Kreis</td>\n",
       "      <td>NA</td>\n",
       "      <td>Allmendingen</td>\n",
       "      <td>NA</td>\n",
       "      <td>NA</td>\n",
       "      <td>Verwaltungsgemeinschaft</td>\n",
       "      <td>Municipality</td>\n",
       "      <td>084255001</td>\n",
       "      <td>NA</td>\n",
       "      <td>MULTIPOLYGON (((9.82220 48.31950, 9.80970 48.3...</td>\n",
       "    </tr>\n",
       "    <tr>\n",
       "      <th>1</th>\n",
       "      <td>DEU.1.1.2_1</td>\n",
       "      <td>DEU</td>\n",
       "      <td>Germany</td>\n",
       "      <td>DEU.1_1</td>\n",
       "      <td>Baden-Württemberg</td>\n",
       "      <td>NA</td>\n",
       "      <td>DEU.1.1_1</td>\n",
       "      <td>Alb-Donau-Kreis</td>\n",
       "      <td>NA</td>\n",
       "      <td>Blaubeuren</td>\n",
       "      <td>NA</td>\n",
       "      <td>NA</td>\n",
       "      <td>Verwaltungsgemeinschaft</td>\n",
       "      <td>Municipality</td>\n",
       "      <td>084255002</td>\n",
       "      <td>NA</td>\n",
       "      <td>MULTIPOLYGON (((9.83130 48.45610, 9.83280 48.4...</td>\n",
       "    </tr>\n",
       "    <tr>\n",
       "      <th>2</th>\n",
       "      <td>DEU.1.1.3_1</td>\n",
       "      <td>DEU</td>\n",
       "      <td>Germany</td>\n",
       "      <td>DEU.1_1</td>\n",
       "      <td>Baden-Württemberg</td>\n",
       "      <td>NA</td>\n",
       "      <td>DEU.1.1_1</td>\n",
       "      <td>Alb-Donau-Kreis</td>\n",
       "      <td>NA</td>\n",
       "      <td>Blaustein</td>\n",
       "      <td>NA</td>\n",
       "      <td>NA</td>\n",
       "      <td>Einheitsgemeinde</td>\n",
       "      <td>Municipality</td>\n",
       "      <td>084250141</td>\n",
       "      <td>NA</td>\n",
       "      <td>MULTIPOLYGON (((9.82750 48.45700, 9.82610 48.4...</td>\n",
       "    </tr>\n",
       "    <tr>\n",
       "      <th>3</th>\n",
       "      <td>DEU.1.1.4_1</td>\n",
       "      <td>DEU</td>\n",
       "      <td>Germany</td>\n",
       "      <td>DEU.1_1</td>\n",
       "      <td>Baden-Württemberg</td>\n",
       "      <td>NA</td>\n",
       "      <td>DEU.1.1_1</td>\n",
       "      <td>Alb-Donau-Kreis</td>\n",
       "      <td>NA</td>\n",
       "      <td>Dietenheim</td>\n",
       "      <td>NA</td>\n",
       "      <td>NA</td>\n",
       "      <td>Verwaltungsverband</td>\n",
       "      <td>Municipality</td>\n",
       "      <td>084255003</td>\n",
       "      <td>NA</td>\n",
       "      <td>MULTIPOLYGON (((10.08380 48.19700, 10.08570 48...</td>\n",
       "    </tr>\n",
       "    <tr>\n",
       "      <th>4</th>\n",
       "      <td>DEU.1.1.5_1</td>\n",
       "      <td>DEU</td>\n",
       "      <td>Germany</td>\n",
       "      <td>DEU.1_1</td>\n",
       "      <td>Baden-Württemberg</td>\n",
       "      <td>NA</td>\n",
       "      <td>DEU.1.1_1</td>\n",
       "      <td>Alb-Donau-Kreis</td>\n",
       "      <td>NA</td>\n",
       "      <td>Dornstadt</td>\n",
       "      <td>NA</td>\n",
       "      <td>NA</td>\n",
       "      <td>Verwaltungsgemeinschaft</td>\n",
       "      <td>Municipality</td>\n",
       "      <td>084255004</td>\n",
       "      <td>NA</td>\n",
       "      <td>MULTIPOLYGON (((9.90640 48.43220, 9.90400 48.4...</td>\n",
       "    </tr>\n",
       "    <tr>\n",
       "      <th>...</th>\n",
       "      <td>...</td>\n",
       "      <td>...</td>\n",
       "      <td>...</td>\n",
       "      <td>...</td>\n",
       "      <td>...</td>\n",
       "      <td>...</td>\n",
       "      <td>...</td>\n",
       "      <td>...</td>\n",
       "      <td>...</td>\n",
       "      <td>...</td>\n",
       "      <td>...</td>\n",
       "      <td>...</td>\n",
       "      <td>...</td>\n",
       "      <td>...</td>\n",
       "      <td>...</td>\n",
       "      <td>...</td>\n",
       "      <td>...</td>\n",
       "    </tr>\n",
       "    <tr>\n",
       "      <th>4675</th>\n",
       "      <td>DEU.16.22.5_1</td>\n",
       "      <td>DEU</td>\n",
       "      <td>Germany</td>\n",
       "      <td>DEU.16_1</td>\n",
       "      <td>Thüringen</td>\n",
       "      <td>NA</td>\n",
       "      <td>DEU.16.22_1</td>\n",
       "      <td>WeimarerLand</td>\n",
       "      <td>NA</td>\n",
       "      <td>Grammetal</td>\n",
       "      <td>NA</td>\n",
       "      <td>NA</td>\n",
       "      <td>Verwaltungsgemeinschaft</td>\n",
       "      <td>Municipality</td>\n",
       "      <td>160715012</td>\n",
       "      <td>NA</td>\n",
       "      <td>MULTIPOLYGON (((11.26150 50.93760, 11.25890 50...</td>\n",
       "    </tr>\n",
       "    <tr>\n",
       "      <th>4676</th>\n",
       "      <td>DEU.16.22.6_1</td>\n",
       "      <td>DEU</td>\n",
       "      <td>Germany</td>\n",
       "      <td>DEU.16_1</td>\n",
       "      <td>Thüringen</td>\n",
       "      <td>NA</td>\n",
       "      <td>DEU.16.22_1</td>\n",
       "      <td>WeimarerLand</td>\n",
       "      <td>NA</td>\n",
       "      <td>Ilmtal-Weinstraße</td>\n",
       "      <td>NA</td>\n",
       "      <td>NA</td>\n",
       "      <td>ErfüllendeGemeinde</td>\n",
       "      <td>Municipality</td>\n",
       "      <td>160715052</td>\n",
       "      <td>NA</td>\n",
       "      <td>MULTIPOLYGON (((11.39260 50.99050, 11.39070 50...</td>\n",
       "    </tr>\n",
       "    <tr>\n",
       "      <th>4677</th>\n",
       "      <td>DEU.16.22.7_1</td>\n",
       "      <td>DEU</td>\n",
       "      <td>Germany</td>\n",
       "      <td>DEU.16_1</td>\n",
       "      <td>Thüringen</td>\n",
       "      <td>NA</td>\n",
       "      <td>DEU.16.22_1</td>\n",
       "      <td>WeimarerLand</td>\n",
       "      <td>NA</td>\n",
       "      <td>Kranichfeld</td>\n",
       "      <td>NA</td>\n",
       "      <td>NA</td>\n",
       "      <td>Verwaltungsgemeinschaft</td>\n",
       "      <td>Municipality</td>\n",
       "      <td>160715007</td>\n",
       "      <td>NA</td>\n",
       "      <td>MULTIPOLYGON (((11.21320 50.80440, 11.20630 50...</td>\n",
       "    </tr>\n",
       "    <tr>\n",
       "      <th>4678</th>\n",
       "      <td>DEU.16.22.8_1</td>\n",
       "      <td>DEU</td>\n",
       "      <td>Germany</td>\n",
       "      <td>DEU.16_1</td>\n",
       "      <td>Thüringen</td>\n",
       "      <td>NA</td>\n",
       "      <td>DEU.16.22_1</td>\n",
       "      <td>WeimarerLand</td>\n",
       "      <td>NA</td>\n",
       "      <td>Mellingen</td>\n",
       "      <td>NA</td>\n",
       "      <td>NA</td>\n",
       "      <td>Verwaltungsgemeinschaft</td>\n",
       "      <td>Municipality</td>\n",
       "      <td>160715008</td>\n",
       "      <td>NA</td>\n",
       "      <td>MULTIPOLYGON (((11.49150 50.89630, 11.49600 50...</td>\n",
       "    </tr>\n",
       "    <tr>\n",
       "      <th>4679</th>\n",
       "      <td>DEU.16.22.9_1</td>\n",
       "      <td>DEU</td>\n",
       "      <td>Germany</td>\n",
       "      <td>DEU.16_1</td>\n",
       "      <td>Thüringen</td>\n",
       "      <td>NA</td>\n",
       "      <td>DEU.16.22_1</td>\n",
       "      <td>WeimarerLand</td>\n",
       "      <td>NA</td>\n",
       "      <td>NordkreisWeimar</td>\n",
       "      <td>NA</td>\n",
       "      <td>NA</td>\n",
       "      <td>Verwaltungsgemeinschaft</td>\n",
       "      <td>Municipality</td>\n",
       "      <td>160715013</td>\n",
       "      <td>NA</td>\n",
       "      <td>MULTIPOLYGON (((11.35290 51.02160, 11.33310 51...</td>\n",
       "    </tr>\n",
       "  </tbody>\n",
       "</table>\n",
       "<p>4680 rows × 17 columns</p>\n",
       "</div>"
      ],
      "text/plain": [
       "              GID_3 GID_0  COUNTRY     GID_1             NAME_1 NL_NAME_1  \\\n",
       "0       DEU.1.1.1_1   DEU  Germany   DEU.1_1  Baden-Württemberg        NA   \n",
       "1       DEU.1.1.2_1   DEU  Germany   DEU.1_1  Baden-Württemberg        NA   \n",
       "2       DEU.1.1.3_1   DEU  Germany   DEU.1_1  Baden-Württemberg        NA   \n",
       "3       DEU.1.1.4_1   DEU  Germany   DEU.1_1  Baden-Württemberg        NA   \n",
       "4       DEU.1.1.5_1   DEU  Germany   DEU.1_1  Baden-Württemberg        NA   \n",
       "...             ...   ...      ...       ...                ...       ...   \n",
       "4675  DEU.16.22.5_1   DEU  Germany  DEU.16_1          Thüringen        NA   \n",
       "4676  DEU.16.22.6_1   DEU  Germany  DEU.16_1          Thüringen        NA   \n",
       "4677  DEU.16.22.7_1   DEU  Germany  DEU.16_1          Thüringen        NA   \n",
       "4678  DEU.16.22.8_1   DEU  Germany  DEU.16_1          Thüringen        NA   \n",
       "4679  DEU.16.22.9_1   DEU  Germany  DEU.16_1          Thüringen        NA   \n",
       "\n",
       "            GID_2           NAME_2 NL_NAME_2             NAME_3 VARNAME_3  \\\n",
       "0       DEU.1.1_1  Alb-Donau-Kreis        NA       Allmendingen        NA   \n",
       "1       DEU.1.1_1  Alb-Donau-Kreis        NA         Blaubeuren        NA   \n",
       "2       DEU.1.1_1  Alb-Donau-Kreis        NA          Blaustein        NA   \n",
       "3       DEU.1.1_1  Alb-Donau-Kreis        NA         Dietenheim        NA   \n",
       "4       DEU.1.1_1  Alb-Donau-Kreis        NA          Dornstadt        NA   \n",
       "...           ...              ...       ...                ...       ...   \n",
       "4675  DEU.16.22_1     WeimarerLand        NA          Grammetal        NA   \n",
       "4676  DEU.16.22_1     WeimarerLand        NA  Ilmtal-Weinstraße        NA   \n",
       "4677  DEU.16.22_1     WeimarerLand        NA        Kranichfeld        NA   \n",
       "4678  DEU.16.22_1     WeimarerLand        NA          Mellingen        NA   \n",
       "4679  DEU.16.22_1     WeimarerLand        NA    NordkreisWeimar        NA   \n",
       "\n",
       "     NL_NAME_3                   TYPE_3     ENGTYPE_3       CC_3 HASC_3  \\\n",
       "0           NA  Verwaltungsgemeinschaft  Municipality  084255001     NA   \n",
       "1           NA  Verwaltungsgemeinschaft  Municipality  084255002     NA   \n",
       "2           NA         Einheitsgemeinde  Municipality  084250141     NA   \n",
       "3           NA       Verwaltungsverband  Municipality  084255003     NA   \n",
       "4           NA  Verwaltungsgemeinschaft  Municipality  084255004     NA   \n",
       "...        ...                      ...           ...        ...    ...   \n",
       "4675        NA  Verwaltungsgemeinschaft  Municipality  160715012     NA   \n",
       "4676        NA       ErfüllendeGemeinde  Municipality  160715052     NA   \n",
       "4677        NA  Verwaltungsgemeinschaft  Municipality  160715007     NA   \n",
       "4678        NA  Verwaltungsgemeinschaft  Municipality  160715008     NA   \n",
       "4679        NA  Verwaltungsgemeinschaft  Municipality  160715013     NA   \n",
       "\n",
       "                                               geometry  \n",
       "0     MULTIPOLYGON (((9.82220 48.31950, 9.80970 48.3...  \n",
       "1     MULTIPOLYGON (((9.83130 48.45610, 9.83280 48.4...  \n",
       "2     MULTIPOLYGON (((9.82750 48.45700, 9.82610 48.4...  \n",
       "3     MULTIPOLYGON (((10.08380 48.19700, 10.08570 48...  \n",
       "4     MULTIPOLYGON (((9.90640 48.43220, 9.90400 48.4...  \n",
       "...                                                 ...  \n",
       "4675  MULTIPOLYGON (((11.26150 50.93760, 11.25890 50...  \n",
       "4676  MULTIPOLYGON (((11.39260 50.99050, 11.39070 50...  \n",
       "4677  MULTIPOLYGON (((11.21320 50.80440, 11.20630 50...  \n",
       "4678  MULTIPOLYGON (((11.49150 50.89630, 11.49600 50...  \n",
       "4679  MULTIPOLYGON (((11.35290 51.02160, 11.33310 51...  \n",
       "\n",
       "[4680 rows x 17 columns]"
      ]
     },
     "execution_count": 36,
     "metadata": {},
     "output_type": "execute_result"
    }
   ],
   "source": [
    "germany"
   ]
  },
  {
   "cell_type": "code",
   "execution_count": 9,
   "metadata": {},
   "outputs": [
    {
     "data": {
      "text/plain": [
       "array([13.0883, 52.3382, 13.7605, 52.6749])"
      ]
     },
     "execution_count": 9,
     "metadata": {},
     "output_type": "execute_result"
    }
   ],
   "source": [
    "germany[germany['NAME_3']=='Berlin'].total_bounds"
   ]
  },
  {
   "cell_type": "code",
   "execution_count": 10,
   "metadata": {},
   "outputs": [],
   "source": [
    "df = gpd.read_file('../raw_data/whole_world.gpkg')"
   ]
  },
  {
   "cell_type": "code",
   "execution_count": 11,
   "metadata": {},
   "outputs": [
    {
     "data": {
      "text/html": [
       "<div>\n",
       "<style scoped>\n",
       "    .dataframe tbody tr th:only-of-type {\n",
       "        vertical-align: middle;\n",
       "    }\n",
       "\n",
       "    .dataframe tbody tr th {\n",
       "        vertical-align: top;\n",
       "    }\n",
       "\n",
       "    .dataframe thead th {\n",
       "        text-align: right;\n",
       "    }\n",
       "</style>\n",
       "<table border=\"1\" class=\"dataframe\">\n",
       "  <thead>\n",
       "    <tr style=\"text-align: right;\">\n",
       "      <th></th>\n",
       "      <th>GID_0</th>\n",
       "      <th>COUNTRY</th>\n",
       "      <th>geometry</th>\n",
       "    </tr>\n",
       "  </thead>\n",
       "  <tbody>\n",
       "    <tr>\n",
       "      <th>0</th>\n",
       "      <td>ABW</td>\n",
       "      <td>Aruba</td>\n",
       "      <td>MULTIPOLYGON (((-69.97820 12.46986, -69.97847 ...</td>\n",
       "    </tr>\n",
       "    <tr>\n",
       "      <th>1</th>\n",
       "      <td>AFG</td>\n",
       "      <td>Afghanistan</td>\n",
       "      <td>MULTIPOLYGON (((63.61554 29.46970, 63.61425 29...</td>\n",
       "    </tr>\n",
       "    <tr>\n",
       "      <th>2</th>\n",
       "      <td>AGO</td>\n",
       "      <td>Angola</td>\n",
       "      <td>MULTIPOLYGON (((19.89892 -17.87674, 19.89082 -...</td>\n",
       "    </tr>\n",
       "    <tr>\n",
       "      <th>3</th>\n",
       "      <td>AIA</td>\n",
       "      <td>Anguilla</td>\n",
       "      <td>MULTIPOLYGON (((-63.02064 18.20750, -63.02587 ...</td>\n",
       "    </tr>\n",
       "    <tr>\n",
       "      <th>4</th>\n",
       "      <td>ALA</td>\n",
       "      <td>Åland</td>\n",
       "      <td>MULTIPOLYGON (((21.32306 59.74847, 21.32306 59...</td>\n",
       "    </tr>\n",
       "    <tr>\n",
       "      <th>...</th>\n",
       "      <td>...</td>\n",
       "      <td>...</td>\n",
       "      <td>...</td>\n",
       "    </tr>\n",
       "    <tr>\n",
       "      <th>258</th>\n",
       "      <td>YEM</td>\n",
       "      <td>Yemen</td>\n",
       "      <td>MULTIPOLYGON (((44.12514 12.63236, 44.12542 12...</td>\n",
       "    </tr>\n",
       "    <tr>\n",
       "      <th>259</th>\n",
       "      <td>ZAF</td>\n",
       "      <td>South Africa</td>\n",
       "      <td>MULTIPOLYGON (((19.66291 -34.78653, 19.66327 -...</td>\n",
       "    </tr>\n",
       "    <tr>\n",
       "      <th>260</th>\n",
       "      <td>ZMB</td>\n",
       "      <td>Zambia</td>\n",
       "      <td>MULTIPOLYGON (((25.87834 -17.97218, 25.87034 -...</td>\n",
       "    </tr>\n",
       "    <tr>\n",
       "      <th>261</th>\n",
       "      <td>ZNC</td>\n",
       "      <td>Northern Cyprus</td>\n",
       "      <td>MULTIPOLYGON (((33.10775 35.15992, 33.09934 35...</td>\n",
       "    </tr>\n",
       "    <tr>\n",
       "      <th>262</th>\n",
       "      <td>ZWE</td>\n",
       "      <td>Zimbabwe</td>\n",
       "      <td>MULTIPOLYGON (((32.70425 -18.96022, 32.70537 -...</td>\n",
       "    </tr>\n",
       "  </tbody>\n",
       "</table>\n",
       "<p>263 rows × 3 columns</p>\n",
       "</div>"
      ],
      "text/plain": [
       "    GID_0          COUNTRY                                           geometry\n",
       "0     ABW            Aruba  MULTIPOLYGON (((-69.97820 12.46986, -69.97847 ...\n",
       "1     AFG      Afghanistan  MULTIPOLYGON (((63.61554 29.46970, 63.61425 29...\n",
       "2     AGO           Angola  MULTIPOLYGON (((19.89892 -17.87674, 19.89082 -...\n",
       "3     AIA         Anguilla  MULTIPOLYGON (((-63.02064 18.20750, -63.02587 ...\n",
       "4     ALA            Åland  MULTIPOLYGON (((21.32306 59.74847, 21.32306 59...\n",
       "..    ...              ...                                                ...\n",
       "258   YEM            Yemen  MULTIPOLYGON (((44.12514 12.63236, 44.12542 12...\n",
       "259   ZAF     South Africa  MULTIPOLYGON (((19.66291 -34.78653, 19.66327 -...\n",
       "260   ZMB           Zambia  MULTIPOLYGON (((25.87834 -17.97218, 25.87034 -...\n",
       "261   ZNC  Northern Cyprus  MULTIPOLYGON (((33.10775 35.15992, 33.09934 35...\n",
       "262   ZWE         Zimbabwe  MULTIPOLYGON (((32.70425 -18.96022, 32.70537 -...\n",
       "\n",
       "[263 rows x 3 columns]"
      ]
     },
     "execution_count": 11,
     "metadata": {},
     "output_type": "execute_result"
    }
   ],
   "source": [
    "df"
   ]
  },
  {
   "cell_type": "code",
   "execution_count": 18,
   "metadata": {},
   "outputs": [
    {
     "name": "stderr",
     "output_type": "stream",
     "text": [
      "/var/folders/dy/8nkgqf653sggg31kzy33mjdr0000gn/T/ipykernel_96814/3667568157.py:1: DtypeWarning: Columns (2,14,17,38,39,40,41,43,44,48) have mixed types. Specify dtype option on import or set low_memory=False.\n",
      "  df = pd.read_csv('../raw_data/berlin_y.csv',sep='\\t')\n"
     ]
    }
   ],
   "source": [
    "df = pd.read_csv('../raw_data/berlin_y.csv',sep='\\t')"
   ]
  },
  {
   "cell_type": "code",
   "execution_count": 37,
   "metadata": {},
   "outputs": [
    {
     "data": {
      "text/plain": [
       "gbifID                                                                     2832407287\n",
       "datasetKey                                       8a863029-f435-446a-821e-275f4f641165\n",
       "occurrenceID                             https://observation.org/observation/81084816\n",
       "kingdom                                                                      Animalia\n",
       "phylum                                                                       Chordata\n",
       "class                                                                            Aves\n",
       "order                                                                   Passeriformes\n",
       "family                                                                   Fringillidae\n",
       "genus                                                                       Carduelis\n",
       "species                                                           Carduelis carduelis\n",
       "infraspecificEpithet                                                              NaN\n",
       "taxonRank                                                                     SPECIES\n",
       "scientificName                                   Carduelis carduelis (Linnaeus, 1758)\n",
       "verbatimScientificName                                            Carduelis carduelis\n",
       "verbatimScientificNameAuthorship                                                  NaN\n",
       "countryCode                                                                        DE\n",
       "locality                                                     BRD - Berlin (Landkreis)\n",
       "stateProvince                                                                     NaN\n",
       "occurrenceStatus                                                              PRESENT\n",
       "individualCount                                                                  12.0\n",
       "publishingOrgKey                                 c8d737e0-2ff8-42e8-b8fc-6b805d26fc5f\n",
       "decimalLatitude                                                             52.547599\n",
       "decimalLongitude                                                            13.461955\n",
       "coordinateUncertaintyInMeters                                                    10.0\n",
       "coordinatePrecision                                                               NaN\n",
       "elevation                                                                         NaN\n",
       "elevationAccuracy                                                                 NaN\n",
       "depth                                                                             NaN\n",
       "depthAccuracy                                                                     NaN\n",
       "eventDate                                                         2014-01-06T00:00:00\n",
       "day                                                                               6.0\n",
       "month                                                                             1.0\n",
       "year                                                                             2014\n",
       "taxonKey                                                                      2494686\n",
       "speciesKey                                                                  2494686.0\n",
       "basisOfRecord                                                       HUMAN_OBSERVATION\n",
       "institutionCode                                                                   NaN\n",
       "collectionCode                                                           Observations\n",
       "catalogNumber                                                            OBS.81084816\n",
       "recordNumber                                                                      NaN\n",
       "identifiedBy                                                                      NaN\n",
       "dateIdentified                                                                    NaN\n",
       "license                                                                  CC_BY_NC_4_0\n",
       "rightsHolder                                      Stichting Observation International\n",
       "recordedBy                                                                 User 87682\n",
       "typeStatus                                                                        NaN\n",
       "establishmentMeans                                                                NaN\n",
       "lastInterpreted                                              2023-01-24T22:44:03.724Z\n",
       "mediaType                                                                         NaN\n",
       "issue                               OCCURRENCE_STATUS_INFERRED_FROM_INDIVIDUAL_COU...\n",
       "Name: 0, dtype: object"
      ]
     },
     "execution_count": 37,
     "metadata": {},
     "output_type": "execute_result"
    }
   ],
   "source": [
    "df.iloc[0]"
   ]
  },
  {
   "cell_type": "code",
   "execution_count": 23,
   "metadata": {},
   "outputs": [],
   "source": [
    "y_gdf = gpd.GeoDataFrame(df[['decimalLongitude','decimalLatitude']], geometry=gpd.points_from_xy(x=df.decimalLongitude,y=df.decimalLatitude),crs='epsg:4326')"
   ]
  },
  {
   "cell_type": "code",
   "execution_count": 24,
   "metadata": {},
   "outputs": [
    {
     "data": {
      "text/html": [
       "<div>\n",
       "<style scoped>\n",
       "    .dataframe tbody tr th:only-of-type {\n",
       "        vertical-align: middle;\n",
       "    }\n",
       "\n",
       "    .dataframe tbody tr th {\n",
       "        vertical-align: top;\n",
       "    }\n",
       "\n",
       "    .dataframe thead th {\n",
       "        text-align: right;\n",
       "    }\n",
       "</style>\n",
       "<table border=\"1\" class=\"dataframe\">\n",
       "  <thead>\n",
       "    <tr style=\"text-align: right;\">\n",
       "      <th></th>\n",
       "      <th>decimalLongitude</th>\n",
       "      <th>decimalLatitude</th>\n",
       "      <th>geometry</th>\n",
       "    </tr>\n",
       "  </thead>\n",
       "  <tbody>\n",
       "    <tr>\n",
       "      <th>0</th>\n",
       "      <td>13.461955</td>\n",
       "      <td>52.547599</td>\n",
       "      <td>POINT (13.46195 52.54760)</td>\n",
       "    </tr>\n",
       "    <tr>\n",
       "      <th>1</th>\n",
       "      <td>13.096624</td>\n",
       "      <td>52.424582</td>\n",
       "      <td>POINT (13.09662 52.42458)</td>\n",
       "    </tr>\n",
       "    <tr>\n",
       "      <th>2</th>\n",
       "      <td>13.389546</td>\n",
       "      <td>52.534192</td>\n",
       "      <td>POINT (13.38955 52.53419)</td>\n",
       "    </tr>\n",
       "    <tr>\n",
       "      <th>3</th>\n",
       "      <td>13.347840</td>\n",
       "      <td>52.510258</td>\n",
       "      <td>POINT (13.34784 52.51026)</td>\n",
       "    </tr>\n",
       "    <tr>\n",
       "      <th>4</th>\n",
       "      <td>13.407907</td>\n",
       "      <td>52.517157</td>\n",
       "      <td>POINT (13.40791 52.51716)</td>\n",
       "    </tr>\n",
       "    <tr>\n",
       "      <th>...</th>\n",
       "      <td>...</td>\n",
       "      <td>...</td>\n",
       "      <td>...</td>\n",
       "    </tr>\n",
       "    <tr>\n",
       "      <th>570142</th>\n",
       "      <td>13.369331</td>\n",
       "      <td>52.401737</td>\n",
       "      <td>POINT (13.36933 52.40174)</td>\n",
       "    </tr>\n",
       "    <tr>\n",
       "      <th>570143</th>\n",
       "      <td>13.417997</td>\n",
       "      <td>52.434090</td>\n",
       "      <td>POINT (13.41800 52.43409)</td>\n",
       "    </tr>\n",
       "    <tr>\n",
       "      <th>570144</th>\n",
       "      <td>13.540564</td>\n",
       "      <td>52.548069</td>\n",
       "      <td>POINT (13.54056 52.54807)</td>\n",
       "    </tr>\n",
       "    <tr>\n",
       "      <th>570145</th>\n",
       "      <td>13.488293</td>\n",
       "      <td>52.466469</td>\n",
       "      <td>POINT (13.48829 52.46647)</td>\n",
       "    </tr>\n",
       "    <tr>\n",
       "      <th>570146</th>\n",
       "      <td>13.415805</td>\n",
       "      <td>52.564758</td>\n",
       "      <td>POINT (13.41581 52.56476)</td>\n",
       "    </tr>\n",
       "  </tbody>\n",
       "</table>\n",
       "<p>570147 rows × 3 columns</p>\n",
       "</div>"
      ],
      "text/plain": [
       "        decimalLongitude  decimalLatitude                   geometry\n",
       "0              13.461955        52.547599  POINT (13.46195 52.54760)\n",
       "1              13.096624        52.424582  POINT (13.09662 52.42458)\n",
       "2              13.389546        52.534192  POINT (13.38955 52.53419)\n",
       "3              13.347840        52.510258  POINT (13.34784 52.51026)\n",
       "4              13.407907        52.517157  POINT (13.40791 52.51716)\n",
       "...                  ...              ...                        ...\n",
       "570142         13.369331        52.401737  POINT (13.36933 52.40174)\n",
       "570143         13.417997        52.434090  POINT (13.41800 52.43409)\n",
       "570144         13.540564        52.548069  POINT (13.54056 52.54807)\n",
       "570145         13.488293        52.466469  POINT (13.48829 52.46647)\n",
       "570146         13.415805        52.564758  POINT (13.41581 52.56476)\n",
       "\n",
       "[570147 rows x 3 columns]"
      ]
     },
     "execution_count": 24,
     "metadata": {},
     "output_type": "execute_result"
    }
   ],
   "source": [
    "y_gdf"
   ]
  },
  {
   "cell_type": "code",
   "execution_count": 25,
   "metadata": {},
   "outputs": [
    {
     "data": {
      "text/plain": [
       "<Axes: >"
      ]
     },
     "execution_count": 25,
     "metadata": {},
     "output_type": "execute_result"
    },
    {
     "data": {
      "image/png": "[encoded data removed]",
      "text/plain": [
       "<Figure size 640x480 with 1 Axes>"
      ]
     },
     "metadata": {},
     "output_type": "display_data"
    }
   ],
   "source": [
    "y_gdf.plot()"
   ]
  },
  {
   "cell_type": "code",
   "execution_count": 28,
   "metadata": {},
   "outputs": [],
   "source": [
    "y_meters = y_gdf.to_crs(epsg=3035)"
   ]
  },
  {
   "cell_type": "code",
   "execution_count": 30,
   "metadata": {},
   "outputs": [
    {
     "data": {
      "text/plain": [
       "-47368.894515411"
      ]
     },
     "execution_count": 30,
     "metadata": {},
     "output_type": "execute_result"
    }
   ],
   "source": [
    "y_meters.total_bounds[0]-y_meters.total_bounds[2]"
   ]
  },
  {
   "cell_type": "code",
   "execution_count": 32,
   "metadata": {},
   "outputs": [],
   "source": [
    "import shapely"
   ]
  },
  {
   "cell_type": "code",
   "execution_count": 35,
   "metadata": {},
   "outputs": [
    {
     "data": {
      "image/svg+xml": "<svg xmlns=\"http://www.w3.org/2000/svg\" xmlns:xlink=\"http://www.w3.org/1999/xlink\" />",
      "text/plain": [
       "<POLYGON EMPTY>"
      ]
     },
     "execution_count": 35,
     "metadata": {},
     "output_type": "execute_result"
    }
   ],
   "source": [
    "shapely.geometry.Polygon()"
   ]
  },
  {
   "cell_type": "code",
   "execution_count": 41,
   "metadata": {},
   "outputs": [
    {
     "data": {
      "text/plain": [
       "0.006525114999999934"
      ]
     },
     "execution_count": 41,
     "metadata": {},
     "output_type": "execute_result"
    }
   ],
   "source": [
    "germany.iloc[0]['geometry'].area"
   ]
  },
  {
   "cell_type": "code",
   "execution_count": 43,
   "metadata": {},
   "outputs": [
    {
     "data": {
      "text/html": [
       "<div>\n",
       "<style scoped>\n",
       "    .dataframe tbody tr th:only-of-type {\n",
       "        vertical-align: middle;\n",
       "    }\n",
       "\n",
       "    .dataframe tbody tr th {\n",
       "        vertical-align: top;\n",
       "    }\n",
       "\n",
       "    .dataframe thead th {\n",
       "        text-align: right;\n",
       "    }\n",
       "</style>\n",
       "<table border=\"1\" class=\"dataframe\">\n",
       "  <thead>\n",
       "    <tr style=\"text-align: right;\">\n",
       "      <th></th>\n",
       "      <th>Cities</th>\n",
       "      <th>Countries</th>\n",
       "    </tr>\n",
       "  </thead>\n",
       "  <tbody>\n",
       "    <tr>\n",
       "      <th>0</th>\n",
       "      <td>Nizip</td>\n",
       "      <td>Turkey</td>\n",
       "    </tr>\n",
       "    <tr>\n",
       "      <th>1</th>\n",
       "      <td>Ostrowiec Świętokrzyski</td>\n",
       "      <td>Poland</td>\n",
       "    </tr>\n",
       "    <tr>\n",
       "      <th>2</th>\n",
       "      <td>Niort</td>\n",
       "      <td>France</td>\n",
       "    </tr>\n",
       "    <tr>\n",
       "      <th>3</th>\n",
       "      <td>Avellino</td>\n",
       "      <td>Italy</td>\n",
       "    </tr>\n",
       "    <tr>\n",
       "      <th>4</th>\n",
       "      <td>Norrköping</td>\n",
       "      <td>Sweden</td>\n",
       "    </tr>\n",
       "    <tr>\n",
       "      <th>...</th>\n",
       "      <td>...</td>\n",
       "      <td>...</td>\n",
       "    </tr>\n",
       "    <tr>\n",
       "      <th>783</th>\n",
       "      <td>Metz</td>\n",
       "      <td>France</td>\n",
       "    </tr>\n",
       "    <tr>\n",
       "      <th>784</th>\n",
       "      <td>Reims</td>\n",
       "      <td>France</td>\n",
       "    </tr>\n",
       "    <tr>\n",
       "      <th>785</th>\n",
       "      <td>Cheshire West and Chester</td>\n",
       "      <td>United Kingdom</td>\n",
       "    </tr>\n",
       "    <tr>\n",
       "      <th>786</th>\n",
       "      <td>Milano</td>\n",
       "      <td>Italy</td>\n",
       "    </tr>\n",
       "    <tr>\n",
       "      <th>787</th>\n",
       "      <td>Besançon</td>\n",
       "      <td>France</td>\n",
       "    </tr>\n",
       "  </tbody>\n",
       "</table>\n",
       "<p>788 rows × 2 columns</p>\n",
       "</div>"
      ],
      "text/plain": [
       "                        Cities       Countries\n",
       "0                        Nizip          Turkey\n",
       "1      Ostrowiec Świętokrzyski          Poland\n",
       "2                        Niort          France\n",
       "3                     Avellino           Italy\n",
       "4                   Norrköping          Sweden\n",
       "..                         ...             ...\n",
       "783                       Metz          France\n",
       "784                      Reims          France\n",
       "785  Cheshire West and Chester  United Kingdom\n",
       "786                     Milano           Italy\n",
       "787                   Besançon          France\n",
       "\n",
       "[788 rows x 2 columns]"
      ]
     },
     "execution_count": 43,
     "metadata": {},
     "output_type": "execute_result"
    }
   ],
   "source": [
    "cities = pd.read_csv('../raw_data/urban_atlas_cities.csv')\n",
    "cities"
   ]
  },
  {
   "cell_type": "code",
   "execution_count": 47,
   "metadata": {},
   "outputs": [],
   "source": [
    "ger_cit = cities[cities['Countries']=='Germany']['Cities']"
   ]
  },
  {
   "cell_type": "code",
   "execution_count": 48,
   "metadata": {},
   "outputs": [
    {
     "data": {
      "text/plain": [
       "[]"
      ]
     },
     "execution_count": 48,
     "metadata": {},
     "output_type": "execute_result"
    }
   ],
   "source": [
    "german_cities = []\n",
    "for x in ger_cit:\n",
    "    if x in germany['NAME_3'] or x in germany['NL_NAME_3']:\n",
    "        german_cities.append(x)\n",
    "german_cities"
   ]
  },
  {
   "cell_type": "code",
   "execution_count": 2,
   "metadata": {},
   "outputs": [
    {
     "name": "stderr",
     "output_type": "stream",
     "text": [
      "/var/folders/dy/8nkgqf653sggg31kzy33mjdr0000gn/T/ipykernel_90004/4086695609.py:5: DtypeWarning: Columns (2,14,17,38,39,40,41,43,44,48) have mixed types. Specify dtype option on import or set low_memory=False.\n",
      "  df = pd.read_csv('../raw_data/berlin_y.csv',sep='\\t')\n"
     ]
    },
    {
     "data": {
      "text/html": [
       "<div>\n",
       "<style scoped>\n",
       "    .dataframe tbody tr th:only-of-type {\n",
       "        vertical-align: middle;\n",
       "    }\n",
       "\n",
       "    .dataframe tbody tr th {\n",
       "        vertical-align: top;\n",
       "    }\n",
       "\n",
       "    .dataframe thead th {\n",
       "        text-align: right;\n",
       "    }\n",
       "</style>\n",
       "<table border=\"1\" class=\"dataframe\">\n",
       "  <thead>\n",
       "    <tr style=\"text-align: right;\">\n",
       "      <th></th>\n",
       "      <th>decimalLongitude</th>\n",
       "      <th>decimalLatitude</th>\n",
       "      <th>geometry</th>\n",
       "    </tr>\n",
       "  </thead>\n",
       "  <tbody>\n",
       "    <tr>\n",
       "      <th>0</th>\n",
       "      <td>13.461955</td>\n",
       "      <td>52.547599</td>\n",
       "      <td>POINT (13.46195 52.54760)</td>\n",
       "    </tr>\n",
       "    <tr>\n",
       "      <th>1</th>\n",
       "      <td>13.096624</td>\n",
       "      <td>52.424582</td>\n",
       "      <td>POINT (13.09662 52.42458)</td>\n",
       "    </tr>\n",
       "    <tr>\n",
       "      <th>2</th>\n",
       "      <td>13.389546</td>\n",
       "      <td>52.534192</td>\n",
       "      <td>POINT (13.38955 52.53419)</td>\n",
       "    </tr>\n",
       "    <tr>\n",
       "      <th>3</th>\n",
       "      <td>13.347840</td>\n",
       "      <td>52.510258</td>\n",
       "      <td>POINT (13.34784 52.51026)</td>\n",
       "    </tr>\n",
       "    <tr>\n",
       "      <th>4</th>\n",
       "      <td>13.407907</td>\n",
       "      <td>52.517157</td>\n",
       "      <td>POINT (13.40791 52.51716)</td>\n",
       "    </tr>\n",
       "    <tr>\n",
       "      <th>...</th>\n",
       "      <td>...</td>\n",
       "      <td>...</td>\n",
       "      <td>...</td>\n",
       "    </tr>\n",
       "    <tr>\n",
       "      <th>570142</th>\n",
       "      <td>13.369331</td>\n",
       "      <td>52.401737</td>\n",
       "      <td>POINT (13.36933 52.40174)</td>\n",
       "    </tr>\n",
       "    <tr>\n",
       "      <th>570143</th>\n",
       "      <td>13.417997</td>\n",
       "      <td>52.434090</td>\n",
       "      <td>POINT (13.41800 52.43409)</td>\n",
       "    </tr>\n",
       "    <tr>\n",
       "      <th>570144</th>\n",
       "      <td>13.540564</td>\n",
       "      <td>52.548069</td>\n",
       "      <td>POINT (13.54056 52.54807)</td>\n",
       "    </tr>\n",
       "    <tr>\n",
       "      <th>570145</th>\n",
       "      <td>13.488293</td>\n",
       "      <td>52.466469</td>\n",
       "      <td>POINT (13.48829 52.46647)</td>\n",
       "    </tr>\n",
       "    <tr>\n",
       "      <th>570146</th>\n",
       "      <td>13.415805</td>\n",
       "      <td>52.564758</td>\n",
       "      <td>POINT (13.41581 52.56476)</td>\n",
       "    </tr>\n",
       "  </tbody>\n",
       "</table>\n",
       "<p>570147 rows × 3 columns</p>\n",
       "</div>"
      ],
      "text/plain": [
       "        decimalLongitude  decimalLatitude                   geometry\n",
       "0              13.461955        52.547599  POINT (13.46195 52.54760)\n",
       "1              13.096624        52.424582  POINT (13.09662 52.42458)\n",
       "2              13.389546        52.534192  POINT (13.38955 52.53419)\n",
       "3              13.347840        52.510258  POINT (13.34784 52.51026)\n",
       "4              13.407907        52.517157  POINT (13.40791 52.51716)\n",
       "...                  ...              ...                        ...\n",
       "570142         13.369331        52.401737  POINT (13.36933 52.40174)\n",
       "570143         13.417997        52.434090  POINT (13.41800 52.43409)\n",
       "570144         13.540564        52.548069  POINT (13.54056 52.54807)\n",
       "570145         13.488293        52.466469  POINT (13.48829 52.46647)\n",
       "570146         13.415805        52.564758  POINT (13.41581 52.56476)\n",
       "\n",
       "[570147 rows x 3 columns]"
      ]
     },
     "execution_count": 2,
     "metadata": {},
     "output_type": "execute_result"
    }
   ],
   "source": [
    "from assign_y import assign_y\n",
    "from construct_grid import make_grid\n",
    "import pandas as pd\n",
    "import geopandas as gpd\n",
    "df = pd.read_csv('../raw_data/berlin_y.csv',sep='\\t')\n",
    "y_gdf = gpd.GeoDataFrame(df[['decimalLongitude','decimalLatitude']], geometry=gpd.points_from_xy(x=df.decimalLongitude,y=df.decimalLatitude),crs='epsg:4326')\n",
    "y_gdf"
   ]
  },
  {
   "cell_type": "code",
   "execution_count": 3,
   "metadata": {},
   "outputs": [
    {
     "data": {
      "text/html": [
       "<div>\n",
       "<style scoped>\n",
       "    .dataframe tbody tr th:only-of-type {\n",
       "        vertical-align: middle;\n",
       "    }\n",
       "\n",
       "    .dataframe tbody tr th {\n",
       "        vertical-align: top;\n",
       "    }\n",
       "\n",
       "    .dataframe thead th {\n",
       "        text-align: right;\n",
       "    }\n",
       "</style>\n",
       "<table border=\"1\" class=\"dataframe\">\n",
       "  <thead>\n",
       "    <tr style=\"text-align: right;\">\n",
       "      <th></th>\n",
       "      <th>city_name</th>\n",
       "      <th>country</th>\n",
       "      <th>geometry</th>\n",
       "    </tr>\n",
       "  </thead>\n",
       "  <tbody>\n",
       "    <tr>\n",
       "      <th>315</th>\n",
       "      <td>Berlin</td>\n",
       "      <td>Germany</td>\n",
       "      <td>MULTIPOLYGON (((13.50020 52.61380, 13.50320 52...</td>\n",
       "    </tr>\n",
       "  </tbody>\n",
       "</table>\n",
       "</div>"
      ],
      "text/plain": [
       "    city_name  country                                           geometry\n",
       "315    Berlin  Germany  MULTIPOLYGON (((13.50020 52.61380, 13.50320 52..."
      ]
     },
     "execution_count": 3,
     "metadata": {},
     "output_type": "execute_result"
    }
   ],
   "source": [
    "berlin = gpd.read_file('../raw_data/eu_cities.json')\n",
    "berlin = berlin[berlin['city_name']=='Berlin']\n",
    "berlin"
   ]
  },
  {
   "cell_type": "code",
   "execution_count": 5,
   "metadata": {},
   "outputs": [
    {
     "data": {
      "text/plain": [
       "(1012, 1)"
      ]
     },
     "execution_count": 5,
     "metadata": {},
     "output_type": "execute_result"
    }
   ],
   "source": [
    "berlin_grid = make_grid(berlin,1000)\n",
    "berlin_grid.shape"
   ]
  },
  {
   "cell_type": "code",
   "execution_count": 7,
   "metadata": {},
   "outputs": [
    {
     "data": {
      "text/html": [
       "<div>\n",
       "<style scoped>\n",
       "    .dataframe tbody tr th:only-of-type {\n",
       "        vertical-align: middle;\n",
       "    }\n",
       "\n",
       "    .dataframe tbody tr th {\n",
       "        vertical-align: top;\n",
       "    }\n",
       "\n",
       "    .dataframe thead th {\n",
       "        text-align: right;\n",
       "    }\n",
       "</style>\n",
       "<table border=\"1\" class=\"dataframe\">\n",
       "  <thead>\n",
       "    <tr style=\"text-align: right;\">\n",
       "      <th></th>\n",
       "      <th>geometry</th>\n",
       "      <th>num_points_inside</th>\n",
       "    </tr>\n",
       "  </thead>\n",
       "  <tbody>\n",
       "    <tr>\n",
       "      <th>0</th>\n",
       "      <td>POLYGON ((4568039.698 3253860.913, 4569039.698...</td>\n",
       "      <td>126</td>\n",
       "    </tr>\n",
       "    <tr>\n",
       "      <th>1</th>\n",
       "      <td>POLYGON ((4569039.698 3253860.913, 4570039.698...</td>\n",
       "      <td>4</td>\n",
       "    </tr>\n",
       "    <tr>\n",
       "      <th>2</th>\n",
       "      <td>POLYGON ((4568039.698 3254860.913, 4569039.698...</td>\n",
       "      <td>22</td>\n",
       "    </tr>\n",
       "    <tr>\n",
       "      <th>3</th>\n",
       "      <td>POLYGON ((4569039.698 3254860.913, 4570039.698...</td>\n",
       "      <td>7</td>\n",
       "    </tr>\n",
       "    <tr>\n",
       "      <th>4</th>\n",
       "      <td>POLYGON ((4570039.698 3254860.913, 4571039.698...</td>\n",
       "      <td>24</td>\n",
       "    </tr>\n",
       "  </tbody>\n",
       "</table>\n",
       "</div>"
      ],
      "text/plain": [
       "                                            geometry  num_points_inside\n",
       "0  POLYGON ((4568039.698 3253860.913, 4569039.698...                126\n",
       "1  POLYGON ((4569039.698 3253860.913, 4570039.698...                  4\n",
       "2  POLYGON ((4568039.698 3254860.913, 4569039.698...                 22\n",
       "3  POLYGON ((4569039.698 3254860.913, 4570039.698...                  7\n",
       "4  POLYGON ((4570039.698 3254860.913, 4571039.698...                 24"
      ]
     },
     "execution_count": 7,
     "metadata": {},
     "output_type": "execute_result"
    }
   ],
   "source": [
    "berlin_y = assign_y(berlin_grid,y_gdf.to_crs(epsg=3035))\n",
    "berlin_y.head()"
   ]
  },
  {
   "cell_type": "code",
   "execution_count": 8,
   "metadata": {},
   "outputs": [],
   "source": [
    "berlin_y.to_file('../raw_data/berlin_grid_y.json', driver='GeoJSONSeq')"
   ]
  },
  {
   "cell_type": "code",
   "execution_count": 9,
   "metadata": {},
   "outputs": [
    {
     "data": {
      "text/plain": [
       "<Axes: >"
      ]
     },
     "execution_count": 9,
     "metadata": {},
     "output_type": "execute_result"
    },
    {
     "data": {
      "image/png": "[encoded data removed]",
      "text/plain": [
       "<Figure size 640x480 with 1 Axes>"
      ]
     },
     "metadata": {},
     "output_type": "display_data"
    }
   ],
   "source": [
    "berlin_grid = gpd.read_file('../raw_data/berlin_grid_y.json')\n",
    "berlin_grid.plot()"
   ]
  },
  {
   "cell_type": "code",
   "execution_count": null,
   "metadata": {},
   "outputs": [],
   "source": []
  }
 ],
 "metadata": {
  "kernelspec": {
   "display_name": "Python 3 (ipykernel)",
   "language": "python",
   "name": "python3"
  },
  "language_info": {
   "codemirror_mode": {
    "name": "ipython",
    "version": 3
   },
   "file_extension": ".py",
   "mimetype": "text/x-python",
   "name": "python",
   "nbconvert_exporter": "python",
   "pygments_lexer": "ipython3",
   "version": "3.10.6"
  },
  "toc": {
   "base_numbering": 1,
   "nav_menu": {},
   "number_sections": true,
   "sideBar": true,
   "skip_h1_title": false,
   "title_cell": "Table of Contents",
   "title_sidebar": "Contents",
   "toc_cell": false,
   "toc_position": {},
   "toc_section_display": true,
   "toc_window_display": false
  }
 },
 "nbformat": 4,
 "nbformat_minor": 2
}
