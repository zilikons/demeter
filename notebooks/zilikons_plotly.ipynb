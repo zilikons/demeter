{
 "cells": [
  {
   "cell_type": "code",
   "execution_count": 5,
   "metadata": {},
   "outputs": [],
   "source": [
    "import plotly.express as px\n",
    "import geopandas as gpd\n",
    "import pandas as pd\n",
    "import numpy as np\n",
    "from shapely.geometry import Point\n",
    "import plotly.graph_objs as go\n",
    "from assign_y import assign_y\n",
    "from construct_grid import make_grid"
   ]
  },
  {
   "cell_type": "code",
   "execution_count": 22,
   "metadata": {},
   "outputs": [
    {
     "name": "stderr",
     "output_type": "stream",
     "text": [
      "/var/folders/dy/8nkgqf653sggg31kzy33mjdr0000gn/T/ipykernel_99467/3862336917.py:1: DtypeWarning:\n",
      "\n",
      "Columns (2,14,17,38,39,40,41,43,44,48) have mixed types. Specify dtype option on import or set low_memory=False.\n",
      "\n",
      "/Users/zilikons/.pyenv/versions/3.10.6/envs/demeter/lib/python3.10/site-packages/pandas/core/arraylike.py:402: RuntimeWarning:\n",
      "\n",
      "divide by zero encountered in log\n",
      "\n",
      "/var/folders/dy/8nkgqf653sggg31kzy33mjdr0000gn/T/ipykernel_99467/3862336917.py:14: UserWarning:\n",
      "\n",
      "Geometry is in a geographic CRS. Results from 'centroid' are likely incorrect. Use 'GeoSeries.to_crs()' to re-project geometries to a projected CRS before this operation.\n",
      "\n",
      "\n",
      "/var/folders/dy/8nkgqf653sggg31kzy33mjdr0000gn/T/ipykernel_99467/3862336917.py:15: UserWarning:\n",
      "\n",
      "Geometry is in a geographic CRS. Results from 'centroid' are likely incorrect. Use 'GeoSeries.to_crs()' to re-project geometries to a projected CRS before this operation.\n",
      "\n",
      "\n"
     ]
    }
   ],
   "source": [
    "y_data = pd.read_csv('../raw_data/berlin_y.csv', sep='\\t')\n",
    "eu_cities = gpd.read_file('../raw_data/eu_cities.json')\n",
    "berlin_shape = eu_cities[eu_cities['city_name']=='Berlin']\n",
    "berlin_grid = make_grid(berlin_shape,1000)\n",
    "y_data_gdf = gpd.GeoDataFrame(y_data[['decimalLongitude','decimalLatitude']], geometry=gpd.points_from_xy(x=y_data.decimalLongitude,y=y_data.decimalLatitude), crs='epsg:4326')\n",
    "y_data_gdf = y_data_gdf.to_crs(epsg=3035)\n",
    "gridded_y = assign_y(berlin_grid,y_data_gdf)\n",
    "gridded_y['num_points_inside'] = np.log(gridded_y['num_points_inside'])\n",
    "gridded_y = gridded_y.to_crs(epsg=4326)\n",
    "url = \"https://github.com/eurostat/Nuts2json/raw/master/2021/4326/20M/nutsrg_3.json\"\n",
    "european_countries = gpd.read_file(url)\n",
    "gridded_y_json = gridded_y.geometry.__geo_interface__\n",
    "location_name = berlin_shape['city_name']\n",
    "location_lat = berlin_shape['geometry'].centroid.y.values[0]\n",
    "location_lon = berlin_shape['geometry'].centroid.x.values[0]\n",
    "location_point = Point(location_lon, location_lat)\n",
    "location_country = european_countries[european_countries.contains(location_point)].iloc[0]\n",
    "location_data = pd.DataFrame({\"Name\": [location_name], \"Latitude\": [location_lat], \"Longitude\": [location_lon]})\n",
    "location_data['Name'] = location_data['Name'].astype(str)\n"
   ]
  },
  {
   "cell_type": "code",
   "execution_count": 40,
   "metadata": {},
   "outputs": [],
   "source": [
    "gridded_y.to_file('../raw_data/berlin_grid_y.json', driver='GeoJSONSeq')"
   ]
  },
  {
   "cell_type": "code",
   "execution_count": 43,
   "metadata": {},
   "outputs": [
    {
     "ename": "ValueError",
     "evalue": "\n    Invalid element(s) received for the 'hoverinfo' property of choroplethmapbox\n        Invalid elements include: ['num_points_inside']\n\n    The 'hoverinfo' property is a flaglist and may be specified\n    as a string containing:\n      - Any combination of ['location', 'z', 'text', 'name'] joined with '+' characters\n        (e.g. 'location+z')\n        OR exactly one of ['all', 'none', 'skip'] (e.g. 'skip')\n      - A list or array of the above",
     "output_type": "error",
     "traceback": [
      "\u001b[0;31m---------------------------------------------------------------------------\u001b[0m",
      "\u001b[0;31mValueError\u001b[0m                                Traceback (most recent call last)",
      "Cell \u001b[0;32mIn[43], line 5\u001b[0m\n\u001b[1;32m      1\u001b[0m fig \u001b[39m=\u001b[39m px\u001b[39m.\u001b[39mchoropleth_mapbox(location_data, geojson\u001b[39m=\u001b[39mlocation_country\u001b[39m.\u001b[39mgeometry\u001b[39m.\u001b[39m__geo_interface__, color\u001b[39m=\u001b[39m\u001b[39m\"\u001b[39m\u001b[39mName\u001b[39m\u001b[39m\"\u001b[39m,\n\u001b[1;32m      2\u001b[0m locations\u001b[39m=\u001b[39m\u001b[39m'\u001b[39m\u001b[39mName\u001b[39m\u001b[39m'\u001b[39m, featureidkey\u001b[39m=\u001b[39m\u001b[39m\"\u001b[39m\u001b[39mproperties.NUTS_ID\u001b[39m\u001b[39m\"\u001b[39m,\n\u001b[1;32m      3\u001b[0m mapbox_style\u001b[39m=\u001b[39m\u001b[39m\"\u001b[39m\u001b[39mcarto-positron\u001b[39m\u001b[39m\"\u001b[39m, zoom\u001b[39m=\u001b[39m\u001b[39m10\u001b[39m, center\u001b[39m=\u001b[39m{\u001b[39m\"\u001b[39m\u001b[39mlat\u001b[39m\u001b[39m\"\u001b[39m: location_lat, \u001b[39m\"\u001b[39m\u001b[39mlon\u001b[39m\u001b[39m\"\u001b[39m: location_lon},\n\u001b[1;32m      4\u001b[0m opacity\u001b[39m=\u001b[39m\u001b[39m0.8\u001b[39m, labels\u001b[39m=\u001b[39m{\u001b[39m'\u001b[39m\u001b[39mName\u001b[39m\u001b[39m'\u001b[39m: \u001b[39m'\u001b[39m\u001b[39mLocation\u001b[39m\u001b[39m'\u001b[39m}, hover_data\u001b[39m=\u001b[39m[\u001b[39m\"\u001b[39m\u001b[39mName\u001b[39m\u001b[39m\"\u001b[39m])\n\u001b[0;32m----> 5\u001b[0m trace \u001b[39m=\u001b[39m go\u001b[39m.\u001b[39;49mChoroplethmapbox(\n\u001b[1;32m      6\u001b[0m     geojson\u001b[39m=\u001b[39;49mgridded_y_json,\n\u001b[1;32m      7\u001b[0m     locations\u001b[39m=\u001b[39;49mgridded_y\u001b[39m.\u001b[39;49mindex,\n\u001b[1;32m      8\u001b[0m     z\u001b[39m=\u001b[39;49mgridded_y[\u001b[39m'\u001b[39;49m\u001b[39mnum_points_inside\u001b[39;49m\u001b[39m'\u001b[39;49m],\n\u001b[1;32m      9\u001b[0m     colorscale\u001b[39m=\u001b[39;49m\u001b[39m'\u001b[39;49m\u001b[39mReds\u001b[39;49m\u001b[39m'\u001b[39;49m,\n\u001b[1;32m     10\u001b[0m     marker_opacity\u001b[39m=\u001b[39;49m\u001b[39m0.5\u001b[39;49m,\n\u001b[1;32m     11\u001b[0m     marker_line_width\u001b[39m=\u001b[39;49m\u001b[39m0\u001b[39;49m,\n\u001b[1;32m     12\u001b[0m     name\u001b[39m=\u001b[39;49m\u001b[39m'\u001b[39;49m\u001b[39mBioScore\u001b[39;49m\u001b[39m'\u001b[39;49m,\n\u001b[1;32m     13\u001b[0m     hoverinfo\u001b[39m=\u001b[39;49m[\u001b[39m'\u001b[39;49m\u001b[39mnum_points_inside\u001b[39;49m\u001b[39m'\u001b[39;49m]\n\u001b[1;32m     14\u001b[0m )\n\u001b[1;32m     16\u001b[0m fig\u001b[39m.\u001b[39madd_trace(trace)\n\u001b[1;32m     17\u001b[0m fig\u001b[39m.\u001b[39mupdate_layout(\n\u001b[1;32m     18\u001b[0m     showlegend \u001b[39m=\u001b[39m \u001b[39mFalse\u001b[39;00m\n\u001b[1;32m     19\u001b[0m )\n",
      "File \u001b[0;32m~/.pyenv/versions/3.10.6/envs/demeter/lib/python3.10/site-packages/plotly/graph_objs/_choroplethmapbox.py:2129\u001b[0m, in \u001b[0;36mChoroplethmapbox.__init__\u001b[0;34m(self, arg, autocolorscale, below, coloraxis, colorbar, colorscale, customdata, customdatasrc, featureidkey, geojson, hoverinfo, hoverinfosrc, hoverlabel, hovertemplate, hovertemplatesrc, hovertext, hovertextsrc, ids, idssrc, legendgroup, legendgrouptitle, legendrank, legendwidth, locations, locationssrc, marker, meta, metasrc, name, reversescale, selected, selectedpoints, showlegend, showscale, stream, subplot, text, textsrc, uid, uirevision, unselected, visible, z, zauto, zmax, zmid, zmin, zsrc, **kwargs)\u001b[0m\n\u001b[1;32m   2127\u001b[0m _v \u001b[39m=\u001b[39m hoverinfo \u001b[39mif\u001b[39;00m hoverinfo \u001b[39mis\u001b[39;00m \u001b[39mnot\u001b[39;00m \u001b[39mNone\u001b[39;00m \u001b[39melse\u001b[39;00m _v\n\u001b[1;32m   2128\u001b[0m \u001b[39mif\u001b[39;00m _v \u001b[39mis\u001b[39;00m \u001b[39mnot\u001b[39;00m \u001b[39mNone\u001b[39;00m:\n\u001b[0;32m-> 2129\u001b[0m     \u001b[39mself\u001b[39;49m[\u001b[39m\"\u001b[39;49m\u001b[39mhoverinfo\u001b[39;49m\u001b[39m\"\u001b[39;49m] \u001b[39m=\u001b[39m _v\n\u001b[1;32m   2130\u001b[0m _v \u001b[39m=\u001b[39m arg\u001b[39m.\u001b[39mpop(\u001b[39m\"\u001b[39m\u001b[39mhoverinfosrc\u001b[39m\u001b[39m\"\u001b[39m, \u001b[39mNone\u001b[39;00m)\n\u001b[1;32m   2131\u001b[0m _v \u001b[39m=\u001b[39m hoverinfosrc \u001b[39mif\u001b[39;00m hoverinfosrc \u001b[39mis\u001b[39;00m \u001b[39mnot\u001b[39;00m \u001b[39mNone\u001b[39;00m \u001b[39melse\u001b[39;00m _v\n",
      "File \u001b[0;32m~/.pyenv/versions/3.10.6/envs/demeter/lib/python3.10/site-packages/plotly/basedatatypes.py:4851\u001b[0m, in \u001b[0;36mBasePlotlyType.__setitem__\u001b[0;34m(self, prop, value)\u001b[0m\n\u001b[1;32m   4847\u001b[0m         \u001b[39mself\u001b[39m\u001b[39m.\u001b[39m_set_array_prop(prop, value)\n\u001b[1;32m   4849\u001b[0m     \u001b[39m# ### Handle simple property ###\u001b[39;00m\n\u001b[1;32m   4850\u001b[0m     \u001b[39melse\u001b[39;00m:\n\u001b[0;32m-> 4851\u001b[0m         \u001b[39mself\u001b[39;49m\u001b[39m.\u001b[39;49m_set_prop(prop, value)\n\u001b[1;32m   4852\u001b[0m \u001b[39melse\u001b[39;00m:\n\u001b[1;32m   4853\u001b[0m     \u001b[39m# Make sure properties dict is initialized\u001b[39;00m\n\u001b[1;32m   4854\u001b[0m     \u001b[39mself\u001b[39m\u001b[39m.\u001b[39m_init_props()\n",
      "File \u001b[0;32m~/.pyenv/versions/3.10.6/envs/demeter/lib/python3.10/site-packages/plotly/basedatatypes.py:5195\u001b[0m, in \u001b[0;36mBasePlotlyType._set_prop\u001b[0;34m(self, prop, val)\u001b[0m\n\u001b[1;32m   5193\u001b[0m         \u001b[39mreturn\u001b[39;00m\n\u001b[1;32m   5194\u001b[0m     \u001b[39melse\u001b[39;00m:\n\u001b[0;32m-> 5195\u001b[0m         \u001b[39mraise\u001b[39;00m err\n\u001b[1;32m   5197\u001b[0m \u001b[39m# val is None\u001b[39;00m\n\u001b[1;32m   5198\u001b[0m \u001b[39m# -----------\u001b[39;00m\n\u001b[1;32m   5199\u001b[0m \u001b[39mif\u001b[39;00m val \u001b[39mis\u001b[39;00m \u001b[39mNone\u001b[39;00m:\n\u001b[1;32m   5200\u001b[0m     \u001b[39m# Check if we should send null update\u001b[39;00m\n",
      "File \u001b[0;32m~/.pyenv/versions/3.10.6/envs/demeter/lib/python3.10/site-packages/plotly/basedatatypes.py:5190\u001b[0m, in \u001b[0;36mBasePlotlyType._set_prop\u001b[0;34m(self, prop, val)\u001b[0m\n\u001b[1;32m   5187\u001b[0m validator \u001b[39m=\u001b[39m \u001b[39mself\u001b[39m\u001b[39m.\u001b[39m_get_validator(prop)\n\u001b[1;32m   5189\u001b[0m \u001b[39mtry\u001b[39;00m:\n\u001b[0;32m-> 5190\u001b[0m     val \u001b[39m=\u001b[39m validator\u001b[39m.\u001b[39;49mvalidate_coerce(val)\n\u001b[1;32m   5191\u001b[0m \u001b[39mexcept\u001b[39;00m \u001b[39mValueError\u001b[39;00m \u001b[39mas\u001b[39;00m err:\n\u001b[1;32m   5192\u001b[0m     \u001b[39mif\u001b[39;00m \u001b[39mself\u001b[39m\u001b[39m.\u001b[39m_skip_invalid:\n",
      "File \u001b[0;32m~/.pyenv/versions/3.10.6/envs/demeter/lib/python3.10/site-packages/_plotly_utils/basevalidators.py:1889\u001b[0m, in \u001b[0;36mFlaglistValidator.validate_coerce\u001b[0;34m(self, v)\u001b[0m\n\u001b[1;32m   1885\u001b[0m invalid_els \u001b[39m=\u001b[39m [\n\u001b[1;32m   1886\u001b[0m     el \u001b[39mfor\u001b[39;00m el, validated_el \u001b[39min\u001b[39;00m \u001b[39mzip\u001b[39m(v, validated_v) \u001b[39mif\u001b[39;00m validated_el \u001b[39mis\u001b[39;00m \u001b[39mNone\u001b[39;00m\n\u001b[1;32m   1887\u001b[0m ]\n\u001b[1;32m   1888\u001b[0m \u001b[39mif\u001b[39;00m invalid_els:\n\u001b[0;32m-> 1889\u001b[0m     \u001b[39mself\u001b[39;49m\u001b[39m.\u001b[39;49mraise_invalid_elements(invalid_els)\n\u001b[1;32m   1891\u001b[0m \u001b[39mif\u001b[39;00m is_homogeneous_array(v):\n\u001b[1;32m   1892\u001b[0m     v \u001b[39m=\u001b[39m copy_to_readonly_numpy_array(validated_v, kind\u001b[39m=\u001b[39m\u001b[39m\"\u001b[39m\u001b[39mU\u001b[39m\u001b[39m\"\u001b[39m)\n",
      "File \u001b[0;32m~/.pyenv/versions/3.10.6/envs/demeter/lib/python3.10/site-packages/_plotly_utils/basevalidators.py:304\u001b[0m, in \u001b[0;36mBaseValidator.raise_invalid_elements\u001b[0;34m(self, invalid_els)\u001b[0m\n\u001b[1;32m    302\u001b[0m     \u001b[39mdef\u001b[39;00m \u001b[39mraise_invalid_elements\u001b[39m(\u001b[39mself\u001b[39m, invalid_els):\n\u001b[1;32m    303\u001b[0m         \u001b[39mif\u001b[39;00m invalid_els:\n\u001b[0;32m--> 304\u001b[0m             \u001b[39mraise\u001b[39;00m \u001b[39mValueError\u001b[39;00m(\n\u001b[1;32m    305\u001b[0m \u001b[39m                \u001b[39m\u001b[39m\"\"\"\u001b[39;00m\n\u001b[1;32m    306\u001b[0m \u001b[39m    Invalid element(s) received for the '{name}' property of {pname}\u001b[39;00m\n\u001b[1;32m    307\u001b[0m \u001b[39m        Invalid elements include: {invalid}\u001b[39;00m\n\u001b[1;32m    308\u001b[0m \n\u001b[1;32m    309\u001b[0m \u001b[39m{valid_clr_desc}\"\"\"\u001b[39;00m\u001b[39m.\u001b[39mformat(\n\u001b[1;32m    310\u001b[0m                     name\u001b[39m=\u001b[39m\u001b[39mself\u001b[39m\u001b[39m.\u001b[39mplotly_name,\n\u001b[1;32m    311\u001b[0m                     pname\u001b[39m=\u001b[39m\u001b[39mself\u001b[39m\u001b[39m.\u001b[39mparent_name,\n\u001b[1;32m    312\u001b[0m                     invalid\u001b[39m=\u001b[39minvalid_els[:\u001b[39m10\u001b[39m],\n\u001b[1;32m    313\u001b[0m                     valid_clr_desc\u001b[39m=\u001b[39m\u001b[39mself\u001b[39m\u001b[39m.\u001b[39mdescription(),\n\u001b[1;32m    314\u001b[0m                 )\n\u001b[1;32m    315\u001b[0m             )\n",
      "\u001b[0;31mValueError\u001b[0m: \n    Invalid element(s) received for the 'hoverinfo' property of choroplethmapbox\n        Invalid elements include: ['num_points_inside']\n\n    The 'hoverinfo' property is a flaglist and may be specified\n    as a string containing:\n      - Any combination of ['location', 'z', 'text', 'name'] joined with '+' characters\n        (e.g. 'location+z')\n        OR exactly one of ['all', 'none', 'skip'] (e.g. 'skip')\n      - A list or array of the above"
     ]
    }
   ],
   "source": [
    "fig = px.choropleth_mapbox(location_data, geojson=location_country.geometry.__geo_interface__, color=\"Name\",\n",
    "locations='Name', featureidkey=\"properties.NUTS_ID\",\n",
    "mapbox_style=\"carto-positron\", zoom=10, center={\"lat\": location_lat, \"lon\": location_lon},\n",
    "opacity=0.8, labels={'Name': 'Location'}, hover_data=[\"Name\"])\n",
    "trace = go.Choroplethmapbox(\n",
    "    geojson=gridded_y_json,\n",
    "    locations=gridded_y.index,\n",
    "    z=gridded_y['num_points_inside'],\n",
    "    colorscale='Reds',\n",
    "    marker_opacity=0.5,\n",
    "    marker_line_width=0,\n",
    "    name='BioScore'\n",
    ")\n",
    "\n",
    "fig.add_trace(trace)\n",
    "fig.update_layout(\n",
    "    showlegend = False\n",
    ")\n",
    "\n",
    "fig.show()"
   ]
  },
  {
   "cell_type": "code",
   "execution_count": null,
   "metadata": {},
   "outputs": [],
   "source": []
  }
 ],
 "metadata": {
  "kernelspec": {
   "display_name": "demeter",
   "language": "python",
   "name": "python3"
  },
  "language_info": {
   "codemirror_mode": {
    "name": "ipython",
    "version": 3
   },
   "file_extension": ".py",
   "mimetype": "text/x-python",
   "name": "python",
   "nbconvert_exporter": "python",
   "pygments_lexer": "ipython3",
   "version": "3.10.6"
  },
  "orig_nbformat": 4
 },
 "nbformat": 4,
 "nbformat_minor": 2
}
