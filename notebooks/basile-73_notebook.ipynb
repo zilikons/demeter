{
 "cells": [
  {
   "cell_type": "code",
   "execution_count": 1,
   "id": "39f681fa",
   "metadata": {
    "hideCode": true,
    "hidePrompt": true
   },
   "outputs": [],
   "source": [
    "import pandas as pd\n",
    "import geopandas as gpd\n",
    "import numpy as np\n",
    "import matplotlib as plt"
   ]
  },
  {
   "cell_type": "code",
   "execution_count": 2,
   "id": "30ec34e8",
   "metadata": {
    "hideCode": true,
    "hidePrompt": true
   },
   "outputs": [],
   "source": [
    "df = gpd.read_file('raw_data/gadm41_DEU_3.json')"
   ]
  },
  {
   "cell_type": "code",
   "execution_count": 3,
   "id": "6252e9a8",
   "metadata": {
    "hideCode": true,
    "hidePrompt": true
   },
   "outputs": [
    {
     "data": {
      "text/html": [
       "<div>\n",
       "<style scoped>\n",
       "    .dataframe tbody tr th:only-of-type {\n",
       "        vertical-align: middle;\n",
       "    }\n",
       "\n",
       "    .dataframe tbody tr th {\n",
       "        vertical-align: top;\n",
       "    }\n",
       "\n",
       "    .dataframe thead th {\n",
       "        text-align: right;\n",
       "    }\n",
       "</style>\n",
       "<table border=\"1\" class=\"dataframe\">\n",
       "  <thead>\n",
       "    <tr style=\"text-align: right;\">\n",
       "      <th></th>\n",
       "      <th>GID_3</th>\n",
       "      <th>GID_0</th>\n",
       "      <th>COUNTRY</th>\n",
       "      <th>GID_1</th>\n",
       "      <th>NAME_1</th>\n",
       "      <th>NL_NAME_1</th>\n",
       "      <th>GID_2</th>\n",
       "      <th>NAME_2</th>\n",
       "      <th>NL_NAME_2</th>\n",
       "      <th>NAME_3</th>\n",
       "      <th>VARNAME_3</th>\n",
       "      <th>NL_NAME_3</th>\n",
       "      <th>TYPE_3</th>\n",
       "      <th>ENGTYPE_3</th>\n",
       "      <th>CC_3</th>\n",
       "      <th>HASC_3</th>\n",
       "      <th>geometry</th>\n",
       "    </tr>\n",
       "  </thead>\n",
       "  <tbody>\n",
       "    <tr>\n",
       "      <th>0</th>\n",
       "      <td>DEU.1.1.1_1</td>\n",
       "      <td>DEU</td>\n",
       "      <td>Germany</td>\n",
       "      <td>DEU.1_1</td>\n",
       "      <td>Baden-Württemberg</td>\n",
       "      <td>NA</td>\n",
       "      <td>DEU.1.1_1</td>\n",
       "      <td>Alb-Donau-Kreis</td>\n",
       "      <td>NA</td>\n",
       "      <td>Allmendingen</td>\n",
       "      <td>NA</td>\n",
       "      <td>NA</td>\n",
       "      <td>Verwaltungsgemeinschaft</td>\n",
       "      <td>Municipality</td>\n",
       "      <td>084255001</td>\n",
       "      <td>NA</td>\n",
       "      <td>MULTIPOLYGON (((9.82220 48.31950, 9.80970 48.3...</td>\n",
       "    </tr>\n",
       "    <tr>\n",
       "      <th>1</th>\n",
       "      <td>DEU.1.1.2_1</td>\n",
       "      <td>DEU</td>\n",
       "      <td>Germany</td>\n",
       "      <td>DEU.1_1</td>\n",
       "      <td>Baden-Württemberg</td>\n",
       "      <td>NA</td>\n",
       "      <td>DEU.1.1_1</td>\n",
       "      <td>Alb-Donau-Kreis</td>\n",
       "      <td>NA</td>\n",
       "      <td>Blaubeuren</td>\n",
       "      <td>NA</td>\n",
       "      <td>NA</td>\n",
       "      <td>Verwaltungsgemeinschaft</td>\n",
       "      <td>Municipality</td>\n",
       "      <td>084255002</td>\n",
       "      <td>NA</td>\n",
       "      <td>MULTIPOLYGON (((9.83130 48.45610, 9.83280 48.4...</td>\n",
       "    </tr>\n",
       "    <tr>\n",
       "      <th>2</th>\n",
       "      <td>DEU.1.1.3_1</td>\n",
       "      <td>DEU</td>\n",
       "      <td>Germany</td>\n",
       "      <td>DEU.1_1</td>\n",
       "      <td>Baden-Württemberg</td>\n",
       "      <td>NA</td>\n",
       "      <td>DEU.1.1_1</td>\n",
       "      <td>Alb-Donau-Kreis</td>\n",
       "      <td>NA</td>\n",
       "      <td>Blaustein</td>\n",
       "      <td>NA</td>\n",
       "      <td>NA</td>\n",
       "      <td>Einheitsgemeinde</td>\n",
       "      <td>Municipality</td>\n",
       "      <td>084250141</td>\n",
       "      <td>NA</td>\n",
       "      <td>MULTIPOLYGON (((9.82750 48.45700, 9.82610 48.4...</td>\n",
       "    </tr>\n",
       "    <tr>\n",
       "      <th>3</th>\n",
       "      <td>DEU.1.1.4_1</td>\n",
       "      <td>DEU</td>\n",
       "      <td>Germany</td>\n",
       "      <td>DEU.1_1</td>\n",
       "      <td>Baden-Württemberg</td>\n",
       "      <td>NA</td>\n",
       "      <td>DEU.1.1_1</td>\n",
       "      <td>Alb-Donau-Kreis</td>\n",
       "      <td>NA</td>\n",
       "      <td>Dietenheim</td>\n",
       "      <td>NA</td>\n",
       "      <td>NA</td>\n",
       "      <td>Verwaltungsverband</td>\n",
       "      <td>Municipality</td>\n",
       "      <td>084255003</td>\n",
       "      <td>NA</td>\n",
       "      <td>MULTIPOLYGON (((10.08380 48.19700, 10.08570 48...</td>\n",
       "    </tr>\n",
       "    <tr>\n",
       "      <th>4</th>\n",
       "      <td>DEU.1.1.5_1</td>\n",
       "      <td>DEU</td>\n",
       "      <td>Germany</td>\n",
       "      <td>DEU.1_1</td>\n",
       "      <td>Baden-Württemberg</td>\n",
       "      <td>NA</td>\n",
       "      <td>DEU.1.1_1</td>\n",
       "      <td>Alb-Donau-Kreis</td>\n",
       "      <td>NA</td>\n",
       "      <td>Dornstadt</td>\n",
       "      <td>NA</td>\n",
       "      <td>NA</td>\n",
       "      <td>Verwaltungsgemeinschaft</td>\n",
       "      <td>Municipality</td>\n",
       "      <td>084255004</td>\n",
       "      <td>NA</td>\n",
       "      <td>MULTIPOLYGON (((9.90640 48.43220, 9.90400 48.4...</td>\n",
       "    </tr>\n",
       "  </tbody>\n",
       "</table>\n",
       "</div>"
      ],
      "text/plain": [
       "         GID_3 GID_0  COUNTRY    GID_1             NAME_1 NL_NAME_1  \\\n",
       "0  DEU.1.1.1_1   DEU  Germany  DEU.1_1  Baden-Württemberg        NA   \n",
       "1  DEU.1.1.2_1   DEU  Germany  DEU.1_1  Baden-Württemberg        NA   \n",
       "2  DEU.1.1.3_1   DEU  Germany  DEU.1_1  Baden-Württemberg        NA   \n",
       "3  DEU.1.1.4_1   DEU  Germany  DEU.1_1  Baden-Württemberg        NA   \n",
       "4  DEU.1.1.5_1   DEU  Germany  DEU.1_1  Baden-Württemberg        NA   \n",
       "\n",
       "       GID_2           NAME_2 NL_NAME_2        NAME_3 VARNAME_3 NL_NAME_3  \\\n",
       "0  DEU.1.1_1  Alb-Donau-Kreis        NA  Allmendingen        NA        NA   \n",
       "1  DEU.1.1_1  Alb-Donau-Kreis        NA    Blaubeuren        NA        NA   \n",
       "2  DEU.1.1_1  Alb-Donau-Kreis        NA     Blaustein        NA        NA   \n",
       "3  DEU.1.1_1  Alb-Donau-Kreis        NA    Dietenheim        NA        NA   \n",
       "4  DEU.1.1_1  Alb-Donau-Kreis        NA     Dornstadt        NA        NA   \n",
       "\n",
       "                    TYPE_3     ENGTYPE_3       CC_3 HASC_3  \\\n",
       "0  Verwaltungsgemeinschaft  Municipality  084255001     NA   \n",
       "1  Verwaltungsgemeinschaft  Municipality  084255002     NA   \n",
       "2         Einheitsgemeinde  Municipality  084250141     NA   \n",
       "3       Verwaltungsverband  Municipality  084255003     NA   \n",
       "4  Verwaltungsgemeinschaft  Municipality  084255004     NA   \n",
       "\n",
       "                                            geometry  \n",
       "0  MULTIPOLYGON (((9.82220 48.31950, 9.80970 48.3...  \n",
       "1  MULTIPOLYGON (((9.83130 48.45610, 9.83280 48.4...  \n",
       "2  MULTIPOLYGON (((9.82750 48.45700, 9.82610 48.4...  \n",
       "3  MULTIPOLYGON (((10.08380 48.19700, 10.08570 48...  \n",
       "4  MULTIPOLYGON (((9.90640 48.43220, 9.90400 48.4...  "
      ]
     },
     "execution_count": 3,
     "metadata": {},
     "output_type": "execute_result"
    }
   ],
   "source": [
    "df.head()"
   ]
  },
  {
   "cell_type": "code",
   "execution_count": 4,
   "id": "95917295",
   "metadata": {
    "hideCode": true,
    "hidePrompt": true
   },
   "outputs": [],
   "source": [
    "geo = df[df['NAME_3'] == 'Dornstadt']['geometry']"
   ]
  },
  {
   "cell_type": "code",
   "execution_count": 5,
   "id": "82283806",
   "metadata": {
    "hideCode": true,
    "hidePrompt": true
   },
   "outputs": [
    {
     "name": "stdout",
     "output_type": "stream",
     "text": [
      "MULTIPOLYGON (((9.9064 48.4322, 9.904 48.4343, 9.906 48.4379, 9.9033 48.4395, 9.9119 48.4434, 9.8991 48.4444, 9.899 48.4479, 9.902 48.4488, 9.8993 48.4511, 9.9002 48.4533, 9.8981 48.4537, 9.898 48.4557, 9.8886 48.4563, 9.8868 48.4614, 9.882 48.4614, 9.8718 48.4736, 9.8517 48.4773, 9.8497 48.4847, 9.8471 48.4841, 9.845 48.4887, 9.8376 48.4849, 9.8354 48.4892, 9.8321 48.4877, 9.8337 48.4899, 9.8332 48.4934, 9.8282 48.4892, 9.8227 48.4878, 9.8231 48.4863, 9.8175 48.4894, 9.8032 48.4876, 9.8016 48.4921, 9.7979 48.4928, 9.8011 48.4948, 9.7995 48.4975, 9.8047 48.4987, 9.7993 48.502, 9.8012 48.5033, 9.8081 48.5035, 9.802 48.5073, 9.8054 48.5095, 9.8027 48.5103, 9.8018 48.5122, 9.8045 48.5131, 9.8157 48.5087, 9.822 48.508, 9.8216 48.5104, 9.824 48.5108, 9.823 48.5161, 9.8263 48.5173, 9.8269 48.5199, 9.8308 48.5221, 9.8312 48.5267, 9.8342 48.5267, 9.8415 48.5262, 9.8428 48.5247, 9.8515 48.5237, 9.8516 48.5223, 9.8614 48.5225, 9.8662 48.5193, 9.8759 48.5217, 9.8789 48.5142, 9.8849 48.5144, 9.884 48.5134, 9.8897 48.512, 9.8898 48.5103, 9.9 48.51, 9.9004 48.5079, 9.9045 48.5088, 9.906 48.5074, 9.9059 48.5096, 9.9132 48.5067, 9.9127 48.5089, 9.9167 48.5139, 9.9351 48.5173, 9.934 48.5195, 9.9363 48.5199, 9.9365 48.5244, 9.9392 48.525, 9.9424 48.5321, 9.9553 48.5326, 9.9599 48.5341, 9.9622 48.5374, 9.9678 48.5348, 9.9688 48.5326, 9.9749 48.5314, 9.9783 48.5287, 9.9758 48.5212, 9.9773 48.5138, 9.9735 48.508, 9.9788 48.507, 9.9792 48.5044, 9.9868 48.5044, 9.9866 48.4972, 9.9891 48.4949, 9.9923 48.4948, 9.9943 48.4897, 10.0017 48.4882, 10.0014 48.4859, 10.0032 48.4863, 10.0006 48.4809, 10.0052 48.4782, 10.0027 48.4774, 10.0008 48.4738, 10.0044 48.4767, 10.0084 48.4754, 10.0057 48.4729, 10.0073 48.4644, 9.9818 48.463, 9.9816 48.4649, 9.9789 48.4661, 9.9787 48.4685, 9.9728 48.4674, 9.977 48.4645, 9.9769 48.4591, 9.9639 48.4599, 9.9643 48.4583, 9.9695 48.4583, 9.9669 48.4541, 9.968 48.4526, 9.9646 48.4502, 9.965 48.449, 9.9567 48.4464, 9.9521 48.452, 9.9409 48.4513, 9.9324 48.4477, 9.9322 48.4459, 9.9259 48.4463, 9.9232 48.4418, 9.9148 48.4427, 9.9143 48.4376, 9.9076 48.4364, 9.9064 48.4322)))\n"
     ]
    }
   ],
   "source": [
    "for g in geo:\n",
    "    print(g)"
   ]
  },
  {
   "cell_type": "code",
   "execution_count": 6,
   "id": "61f0ff92",
   "metadata": {},
   "outputs": [
    {
     "data": {
      "text/plain": [
       "geopandas.geoseries.GeoSeries"
      ]
     },
     "execution_count": 6,
     "metadata": {},
     "output_type": "execute_result"
    }
   ],
   "source": [
    "type(geo)"
   ]
  },
  {
   "cell_type": "code",
   "execution_count": 7,
   "id": "a071a9ab",
   "metadata": {},
   "outputs": [
    {
     "data": {
      "text/plain": [
       "<Axes: >"
      ]
     },
     "execution_count": 7,
     "metadata": {},
     "output_type": "execute_result"
    },
    {
     "data": {
      "image/png": "[encoded data removed]",
      "text/plain": [
       "<Figure size 640x480 with 1 Axes>"
      ]
     },
     "metadata": {},
     "output_type": "display_data"
    }
   ],
   "source": [
    "df[df['NAME_3']=='München'].plot()"
   ]
  },
  {
   "cell_type": "code",
   "execution_count": 8,
   "id": "bb76029e",
   "metadata": {},
   "outputs": [
    {
     "data": {
      "text/plain": [
       "array([13.0883, 52.3382, 13.7605, 52.6749])"
      ]
     },
     "execution_count": 8,
     "metadata": {},
     "output_type": "execute_result"
    }
   ],
   "source": [
    "df[df['NAME_3']=='Berlin'].total_bounds"
   ]
  },
  {
   "cell_type": "code",
   "execution_count": null,
   "id": "05a44d67",
   "metadata": {},
   "outputs": [],
   "source": [
    "y_df = gpd.read_file('raw_data/0041478-230224095556074.csv')"
   ]
  },
  {
   "cell_type": "code",
   "execution_count": null,
   "id": "b251ed39",
   "metadata": {},
   "outputs": [],
   "source": []
  }
 ],
 "metadata": {
  "hide_code_all_hidden": true,
  "kernelspec": {
   "display_name": "Python 3 (ipykernel)",
   "language": "python",
   "name": "python3"
  },
  "language_info": {
   "codemirror_mode": {
    "name": "ipython",
    "version": 3
   },
   "file_extension": ".py",
   "mimetype": "text/x-python",
   "name": "python",
   "nbconvert_exporter": "python",
   "pygments_lexer": "ipython3",
   "version": "3.9.6"
  },
  "toc": {
   "base_numbering": 1,
   "nav_menu": {},
   "number_sections": true,
   "sideBar": true,
   "skip_h1_title": false,
   "title_cell": "Table of Contents",
   "title_sidebar": "Contents",
   "toc_cell": false,
   "toc_position": {},
   "toc_section_display": true,
   "toc_window_display": false
  }
 },
 "nbformat": 4,
 "nbformat_minor": 5
}
