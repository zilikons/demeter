{
 "cells": [
  {
   "cell_type": "code",
   "execution_count": 2,
   "id": "5820b2dd",
   "metadata": {},
   "outputs": [],
   "source": [
    "import geopandas as gpd\n",
    "import pandas as pd\n",
    "import numpy as np\n",
    "import rasterio\n",
    "import matplotlib.pyplot as plt\n",
    "from shapely.geometry import Point\n",
    "from rasterio.plot import show\n",
    "import rasterio\n",
    "import rasterio.features\n",
    "import rasterio.warp"
   ]
  },
  {
   "cell_type": "code",
   "execution_count": 5,
   "id": "a8609ee2",
   "metadata": {
    "scrolled": true
   },
   "outputs": [
    {
     "data": {
      "text/plain": [
       "<Axes: >"
      ]
     },
     "execution_count": 5,
     "metadata": {},
     "output_type": "execute_result"
    },
    {
     "data": {
      "image/png": "[encoded data removed]",
      "text/plain": [
       "<Figure size 640x480 with 1 Axes>"
      ]
     },
     "metadata": {},
     "output_type": "display_data"
    }
   ],
   "source": [
    "path=\"/home/ana/code/zilikons/demeter/raw_data/DE.gpkg\"\n",
    "de=gpd.read_file(path)\n",
    "de.plot()"
   ]
  },
  {
   "cell_type": "code",
   "execution_count": 17,
   "id": "eacab2cd",
   "metadata": {},
   "outputs": [
    {
     "ename": "TypeError",
     "evalue": "DataFrame.set_index() missing 1 required positional argument: 'keys'",
     "output_type": "error",
     "traceback": [
      "\u001b[0;31m---------------------------------------------------------------------------\u001b[0m",
      "\u001b[0;31mTypeError\u001b[0m                                 Traceback (most recent call last)",
      "Cell \u001b[0;32mIn[17], line 5\u001b[0m\n\u001b[1;32m      3\u001b[0m ds \u001b[38;5;241m=\u001b[39m xr\u001b[38;5;241m.\u001b[39mopen_dataset(\u001b[38;5;124m'\u001b[39m\u001b[38;5;124m/home/ana/code/zilikons/demeter/raw_data/rural_urban_mask_Berlin.nc\u001b[39m\u001b[38;5;124m'\u001b[39m, decode_times\u001b[38;5;241m=\u001b[39m\u001b[38;5;28;01mTrue\u001b[39;00m, use_cftime\u001b[38;5;241m=\u001b[39m\u001b[38;5;28;01mTrue\u001b[39;00m)\n\u001b[1;32m      4\u001b[0m df \u001b[38;5;241m=\u001b[39m ds\u001b[38;5;241m.\u001b[39mto_dataframe()\n\u001b[0;32m----> 5\u001b[0m \u001b[43mdf\u001b[49m\u001b[38;5;241;43m.\u001b[39;49m\u001b[43mset_index\u001b[49m\u001b[43m(\u001b[49m\u001b[43m)\u001b[49m\n\u001b[1;32m      6\u001b[0m data_urban_rural_mask\u001b[38;5;241m=\u001b[39mdf[[\u001b[38;5;124m\"\u001b[39m\u001b[38;5;124mlatitude\u001b[39m\u001b[38;5;124m\"\u001b[39m, \u001b[38;5;124m\"\u001b[39m\u001b[38;5;124mlongitude\u001b[39m\u001b[38;5;124m\"\u001b[39m, \u001b[38;5;124m\"\u001b[39m\u001b[38;5;124mruralurbanmask\u001b[39m\u001b[38;5;124m\"\u001b[39m]]\n\u001b[1;32m      7\u001b[0m data_urban_rural_mask\n",
      "File \u001b[0;32m~/.pyenv/versions/3.10.6/envs/demeter/lib/python3.10/site-packages/pandas/util/_decorators.py:331\u001b[0m, in \u001b[0;36mdeprecate_nonkeyword_arguments.<locals>.decorate.<locals>.wrapper\u001b[0;34m(*args, **kwargs)\u001b[0m\n\u001b[1;32m    325\u001b[0m \u001b[38;5;28;01mif\u001b[39;00m \u001b[38;5;28mlen\u001b[39m(args) \u001b[38;5;241m>\u001b[39m num_allow_args:\n\u001b[1;32m    326\u001b[0m     warnings\u001b[38;5;241m.\u001b[39mwarn(\n\u001b[1;32m    327\u001b[0m         msg\u001b[38;5;241m.\u001b[39mformat(arguments\u001b[38;5;241m=\u001b[39m_format_argument_list(allow_args)),\n\u001b[1;32m    328\u001b[0m         \u001b[38;5;167;01mFutureWarning\u001b[39;00m,\n\u001b[1;32m    329\u001b[0m         stacklevel\u001b[38;5;241m=\u001b[39mfind_stack_level(),\n\u001b[1;32m    330\u001b[0m     )\n\u001b[0;32m--> 331\u001b[0m \u001b[38;5;28;01mreturn\u001b[39;00m \u001b[43mfunc\u001b[49m\u001b[43m(\u001b[49m\u001b[38;5;241;43m*\u001b[39;49m\u001b[43margs\u001b[49m\u001b[43m,\u001b[49m\u001b[43m \u001b[49m\u001b[38;5;241;43m*\u001b[39;49m\u001b[38;5;241;43m*\u001b[39;49m\u001b[43mkwargs\u001b[49m\u001b[43m)\u001b[49m\n",
      "\u001b[0;31mTypeError\u001b[0m: DataFrame.set_index() missing 1 required positional argument: 'keys'"
     ]
    }
   ],
   "source": [
    "import xarray as xr\n",
    "\n",
    "ds = xr.open_dataset('/home/ana/code/zilikons/demeter/raw_data/rural_urban_mask_Berlin.nc', decode_times=True, use_cftime=True)\n",
    "df = ds.to_dataframe()\n",
    "df.set_index()\n",
    "data_urban_rural_mask=df[[\"latitude\", \"longitude\", \"ruralurbanmask\"]]\n",
    "data_urban_rural_mask"
   ]
  },
  {
   "cell_type": "code",
   "execution_count": 11,
   "id": "d7d06ee3",
   "metadata": {},
   "outputs": [],
   "source": [
    "ds = xr.open_dataset('/home/ana/code/zilikons/demeter/raw_data/temp_berlin.nc', decode_times=True, use_cftime=True)\n",
    "df_1 = ds.to_dataframe()"
   ]
  },
  {
   "cell_type": "code",
   "execution_count": 12,
   "id": "7e9e9ade",
   "metadata": {},
   "outputs": [
    {
     "data": {
      "text/html": [
       "<div>\n",
       "<style scoped>\n",
       "    .dataframe tbody tr th:only-of-type {\n",
       "        vertical-align: middle;\n",
       "    }\n",
       "\n",
       "    .dataframe tbody tr th {\n",
       "        vertical-align: top;\n",
       "    }\n",
       "\n",
       "    .dataframe thead th {\n",
       "        text-align: right;\n",
       "    }\n",
       "</style>\n",
       "<table border=\"1\" class=\"dataframe\">\n",
       "  <thead>\n",
       "    <tr style=\"text-align: right;\">\n",
       "      <th></th>\n",
       "      <th></th>\n",
       "      <th></th>\n",
       "      <th>latitude</th>\n",
       "      <th>longitude</th>\n",
       "      <th>tas</th>\n",
       "    </tr>\n",
       "    <tr>\n",
       "      <th>x</th>\n",
       "      <th>y</th>\n",
       "      <th>time</th>\n",
       "      <th></th>\n",
       "      <th></th>\n",
       "      <th></th>\n",
       "    </tr>\n",
       "  </thead>\n",
       "  <tbody>\n",
       "    <tr>\n",
       "      <th rowspan=\"5\" valign=\"top\">4532446.0</th>\n",
       "      <th rowspan=\"5\" valign=\"top\">3253167.0</th>\n",
       "      <th>2017-07-01 00:00:00</th>\n",
       "      <td>52.347431</td>\n",
       "      <td>13.103933</td>\n",
       "      <td>288.416992</td>\n",
       "    </tr>\n",
       "    <tr>\n",
       "      <th>2017-07-01 01:00:00</th>\n",
       "      <td>52.347431</td>\n",
       "      <td>13.103933</td>\n",
       "      <td>288.253174</td>\n",
       "    </tr>\n",
       "    <tr>\n",
       "      <th>2017-07-01 02:00:00</th>\n",
       "      <td>52.347431</td>\n",
       "      <td>13.103933</td>\n",
       "      <td>288.046295</td>\n",
       "    </tr>\n",
       "    <tr>\n",
       "      <th>2017-07-01 03:00:00</th>\n",
       "      <td>52.347431</td>\n",
       "      <td>13.103933</td>\n",
       "      <td>287.846008</td>\n",
       "    </tr>\n",
       "    <tr>\n",
       "      <th>2017-07-01 04:00:00</th>\n",
       "      <td>52.347431</td>\n",
       "      <td>13.103933</td>\n",
       "      <td>287.838654</td>\n",
       "    </tr>\n",
       "    <tr>\n",
       "      <th>...</th>\n",
       "      <th>...</th>\n",
       "      <th>...</th>\n",
       "      <td>...</td>\n",
       "      <td>...</td>\n",
       "      <td>...</td>\n",
       "    </tr>\n",
       "    <tr>\n",
       "      <th rowspan=\"5\" valign=\"top\">4572446.0</th>\n",
       "      <th rowspan=\"5\" valign=\"top\">3293167.0</th>\n",
       "      <th>2017-07-31 19:00:00</th>\n",
       "      <td>52.689594</td>\n",
       "      <td>13.720403</td>\n",
       "      <td>296.305054</td>\n",
       "    </tr>\n",
       "    <tr>\n",
       "      <th>2017-07-31 20:00:00</th>\n",
       "      <td>52.689594</td>\n",
       "      <td>13.720403</td>\n",
       "      <td>295.015442</td>\n",
       "    </tr>\n",
       "    <tr>\n",
       "      <th>2017-07-31 21:00:00</th>\n",
       "      <td>52.689594</td>\n",
       "      <td>13.720403</td>\n",
       "      <td>294.493896</td>\n",
       "    </tr>\n",
       "    <tr>\n",
       "      <th>2017-07-31 22:00:00</th>\n",
       "      <td>52.689594</td>\n",
       "      <td>13.720403</td>\n",
       "      <td>294.368286</td>\n",
       "    </tr>\n",
       "    <tr>\n",
       "      <th>2017-07-31 23:00:00</th>\n",
       "      <td>52.689594</td>\n",
       "      <td>13.720403</td>\n",
       "      <td>294.495911</td>\n",
       "    </tr>\n",
       "  </tbody>\n",
       "</table>\n",
       "<p>119635944 rows × 3 columns</p>\n",
       "</div>"
      ],
      "text/plain": [
       "                                          latitude  longitude         tas\n",
       "x         y         time                                                 \n",
       "4532446.0 3253167.0 2017-07-01 00:00:00  52.347431  13.103933  288.416992\n",
       "                    2017-07-01 01:00:00  52.347431  13.103933  288.253174\n",
       "                    2017-07-01 02:00:00  52.347431  13.103933  288.046295\n",
       "                    2017-07-01 03:00:00  52.347431  13.103933  287.846008\n",
       "                    2017-07-01 04:00:00  52.347431  13.103933  287.838654\n",
       "...                                            ...        ...         ...\n",
       "4572446.0 3293167.0 2017-07-31 19:00:00  52.689594  13.720403  296.305054\n",
       "                    2017-07-31 20:00:00  52.689594  13.720403  295.015442\n",
       "                    2017-07-31 21:00:00  52.689594  13.720403  294.493896\n",
       "                    2017-07-31 22:00:00  52.689594  13.720403  294.368286\n",
       "                    2017-07-31 23:00:00  52.689594  13.720403  294.495911\n",
       "\n",
       "[119635944 rows x 3 columns]"
      ]
     },
     "execution_count": 12,
     "metadata": {},
     "output_type": "execute_result"
    }
   ],
   "source": [
    "df_1"
   ]
  },
  {
   "cell_type": "code",
   "execution_count": null,
   "id": "20964648",
   "metadata": {},
   "outputs": [],
   "source": []
  }
 ],
 "metadata": {
  "kernelspec": {
   "display_name": "Python 3 (ipykernel)",
   "language": "python",
   "name": "python3"
  },
  "language_info": {
   "codemirror_mode": {
    "name": "ipython",
    "version": 3
   },
   "file_extension": ".py",
   "mimetype": "text/x-python",
   "name": "python",
   "nbconvert_exporter": "python",
   "pygments_lexer": "ipython3",
   "version": "3.10.6"
  },
  "toc": {
   "base_numbering": 1,
   "nav_menu": {},
   "number_sections": true,
   "sideBar": true,
   "skip_h1_title": false,
   "title_cell": "Table of Contents",
   "title_sidebar": "Contents",
   "toc_cell": false,
   "toc_position": {},
   "toc_section_display": true,
   "toc_window_display": false
  }
 },
 "nbformat": 4,
 "nbformat_minor": 5
}
