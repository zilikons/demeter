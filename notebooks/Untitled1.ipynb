{
 "cells": [
  {
   "cell_type": "code",
   "execution_count": 6,
   "id": "efbb50c0",
   "metadata": {
    "scrolled": true
   },
   "outputs": [
    {
     "name": "stdout",
     "output_type": "stream",
     "text": [
      "Collecting ipyleaflet\n",
      "  Downloading ipyleaflet-0.17.2-py3-none-any.whl (3.7 MB)\n",
      "\u001b[2K     \u001b[90m━━━━━━━━━━━━━━━━━━━━━━━━━━━━━━━━━━━━━━━━\u001b[0m \u001b[32m3.7/3.7 MB\u001b[0m \u001b[31m9.3 MB/s\u001b[0m eta \u001b[36m0:00:00\u001b[0m:00:01\u001b[0m0:01\u001b[0m\n",
      "\u001b[?25hRequirement already satisfied: ipywidgets<9,>=7.6.0 in /home/ana/.pyenv/versions/3.10.6/envs/demeter/lib/python3.10/site-packages (from ipyleaflet) (8.0.4)\n",
      "Requirement already satisfied: traittypes<3,>=0.2.1 in /home/ana/.pyenv/versions/3.10.6/envs/demeter/lib/python3.10/site-packages (from ipyleaflet) (0.2.1)\n",
      "Collecting branca>=0.5.0\n",
      "  Downloading branca-0.6.0-py3-none-any.whl (24 kB)\n",
      "Requirement already satisfied: xyzservices>=2021.8.1 in /home/ana/.pyenv/versions/3.10.6/envs/demeter/lib/python3.10/site-packages (from ipyleaflet) (2023.2.0)\n",
      "Requirement already satisfied: jinja2 in /home/ana/.pyenv/versions/3.10.6/envs/demeter/lib/python3.10/site-packages (from branca>=0.5.0->ipyleaflet) (3.1.2)\n",
      "Requirement already satisfied: jupyterlab-widgets~=3.0 in /home/ana/.pyenv/versions/3.10.6/envs/demeter/lib/python3.10/site-packages (from ipywidgets<9,>=7.6.0->ipyleaflet) (3.0.5)\n",
      "Requirement already satisfied: widgetsnbextension~=4.0 in /home/ana/.pyenv/versions/3.10.6/envs/demeter/lib/python3.10/site-packages (from ipywidgets<9,>=7.6.0->ipyleaflet) (4.0.5)\n",
      "Requirement already satisfied: traitlets>=4.3.1 in /home/ana/.pyenv/versions/3.10.6/envs/demeter/lib/python3.10/site-packages (from ipywidgets<9,>=7.6.0->ipyleaflet) (5.9.0)\n",
      "Requirement already satisfied: ipykernel>=4.5.1 in /home/ana/.pyenv/versions/3.10.6/envs/demeter/lib/python3.10/site-packages (from ipywidgets<9,>=7.6.0->ipyleaflet) (6.21.2)\n",
      "Requirement already satisfied: ipython>=6.1.0 in /home/ana/.pyenv/versions/3.10.6/envs/demeter/lib/python3.10/site-packages (from ipywidgets<9,>=7.6.0->ipyleaflet) (8.11.0)\n",
      "Requirement already satisfied: packaging in /home/ana/.pyenv/versions/3.10.6/envs/demeter/lib/python3.10/site-packages (from ipykernel>=4.5.1->ipywidgets<9,>=7.6.0->ipyleaflet) (23.0)\n",
      "Requirement already satisfied: jupyter-core!=5.0.*,>=4.12 in /home/ana/.pyenv/versions/3.10.6/envs/demeter/lib/python3.10/site-packages (from ipykernel>=4.5.1->ipywidgets<9,>=7.6.0->ipyleaflet) (5.2.0)\n",
      "Requirement already satisfied: debugpy>=1.6.5 in /home/ana/.pyenv/versions/3.10.6/envs/demeter/lib/python3.10/site-packages (from ipykernel>=4.5.1->ipywidgets<9,>=7.6.0->ipyleaflet) (1.6.6)\n",
      "Requirement already satisfied: psutil in /home/ana/.pyenv/versions/3.10.6/envs/demeter/lib/python3.10/site-packages (from ipykernel>=4.5.1->ipywidgets<9,>=7.6.0->ipyleaflet) (5.9.4)\n",
      "Requirement already satisfied: comm>=0.1.1 in /home/ana/.pyenv/versions/3.10.6/envs/demeter/lib/python3.10/site-packages (from ipykernel>=4.5.1->ipywidgets<9,>=7.6.0->ipyleaflet) (0.1.2)\n",
      "Requirement already satisfied: pyzmq>=20 in /home/ana/.pyenv/versions/3.10.6/envs/demeter/lib/python3.10/site-packages (from ipykernel>=4.5.1->ipywidgets<9,>=7.6.0->ipyleaflet) (25.0.0)\n",
      "Requirement already satisfied: jupyter-client>=6.1.12 in /home/ana/.pyenv/versions/3.10.6/envs/demeter/lib/python3.10/site-packages (from ipykernel>=4.5.1->ipywidgets<9,>=7.6.0->ipyleaflet) (8.0.3)\n",
      "Requirement already satisfied: matplotlib-inline>=0.1 in /home/ana/.pyenv/versions/3.10.6/envs/demeter/lib/python3.10/site-packages (from ipykernel>=4.5.1->ipywidgets<9,>=7.6.0->ipyleaflet) (0.1.6)\n",
      "Requirement already satisfied: tornado>=6.1 in /home/ana/.pyenv/versions/3.10.6/envs/demeter/lib/python3.10/site-packages (from ipykernel>=4.5.1->ipywidgets<9,>=7.6.0->ipyleaflet) (6.2)\n",
      "Requirement already satisfied: nest-asyncio in /home/ana/.pyenv/versions/3.10.6/envs/demeter/lib/python3.10/site-packages (from ipykernel>=4.5.1->ipywidgets<9,>=7.6.0->ipyleaflet) (1.5.6)\n",
      "Requirement already satisfied: decorator in /home/ana/.pyenv/versions/3.10.6/envs/demeter/lib/python3.10/site-packages (from ipython>=6.1.0->ipywidgets<9,>=7.6.0->ipyleaflet) (5.1.1)\n",
      "Requirement already satisfied: pickleshare in /home/ana/.pyenv/versions/3.10.6/envs/demeter/lib/python3.10/site-packages (from ipython>=6.1.0->ipywidgets<9,>=7.6.0->ipyleaflet) (0.7.5)\n",
      "Requirement already satisfied: prompt-toolkit!=3.0.37,<3.1.0,>=3.0.30 in /home/ana/.pyenv/versions/3.10.6/envs/demeter/lib/python3.10/site-packages (from ipython>=6.1.0->ipywidgets<9,>=7.6.0->ipyleaflet) (3.0.38)\n",
      "Requirement already satisfied: backcall in /home/ana/.pyenv/versions/3.10.6/envs/demeter/lib/python3.10/site-packages (from ipython>=6.1.0->ipywidgets<9,>=7.6.0->ipyleaflet) (0.2.0)\n",
      "Requirement already satisfied: stack-data in /home/ana/.pyenv/versions/3.10.6/envs/demeter/lib/python3.10/site-packages (from ipython>=6.1.0->ipywidgets<9,>=7.6.0->ipyleaflet) (0.6.2)\n",
      "Requirement already satisfied: pygments>=2.4.0 in /home/ana/.pyenv/versions/3.10.6/envs/demeter/lib/python3.10/site-packages (from ipython>=6.1.0->ipywidgets<9,>=7.6.0->ipyleaflet) (2.14.0)\n",
      "Requirement already satisfied: jedi>=0.16 in /home/ana/.pyenv/versions/3.10.6/envs/demeter/lib/python3.10/site-packages (from ipython>=6.1.0->ipywidgets<9,>=7.6.0->ipyleaflet) (0.18.2)\n",
      "Requirement already satisfied: pexpect>4.3 in /home/ana/.pyenv/versions/3.10.6/envs/demeter/lib/python3.10/site-packages (from ipython>=6.1.0->ipywidgets<9,>=7.6.0->ipyleaflet) (4.8.0)\n",
      "Requirement already satisfied: MarkupSafe>=2.0 in /home/ana/.pyenv/versions/3.10.6/envs/demeter/lib/python3.10/site-packages (from jinja2->branca>=0.5.0->ipyleaflet) (2.1.2)\n",
      "Requirement already satisfied: parso<0.9.0,>=0.8.0 in /home/ana/.pyenv/versions/3.10.6/envs/demeter/lib/python3.10/site-packages (from jedi>=0.16->ipython>=6.1.0->ipywidgets<9,>=7.6.0->ipyleaflet) (0.8.3)\n",
      "Requirement already satisfied: python-dateutil>=2.8.2 in /home/ana/.pyenv/versions/3.10.6/envs/demeter/lib/python3.10/site-packages (from jupyter-client>=6.1.12->ipykernel>=4.5.1->ipywidgets<9,>=7.6.0->ipyleaflet) (2.8.2)\n",
      "Requirement already satisfied: platformdirs>=2.5 in /home/ana/.pyenv/versions/3.10.6/envs/demeter/lib/python3.10/site-packages (from jupyter-core!=5.0.*,>=4.12->ipykernel>=4.5.1->ipywidgets<9,>=7.6.0->ipyleaflet) (3.1.0)\n",
      "Requirement already satisfied: ptyprocess>=0.5 in /home/ana/.pyenv/versions/3.10.6/envs/demeter/lib/python3.10/site-packages (from pexpect>4.3->ipython>=6.1.0->ipywidgets<9,>=7.6.0->ipyleaflet) (0.7.0)\n",
      "Requirement already satisfied: wcwidth in /home/ana/.pyenv/versions/3.10.6/envs/demeter/lib/python3.10/site-packages (from prompt-toolkit!=3.0.37,<3.1.0,>=3.0.30->ipython>=6.1.0->ipywidgets<9,>=7.6.0->ipyleaflet) (0.2.6)\n",
      "Requirement already satisfied: executing>=1.2.0 in /home/ana/.pyenv/versions/3.10.6/envs/demeter/lib/python3.10/site-packages (from stack-data->ipython>=6.1.0->ipywidgets<9,>=7.6.0->ipyleaflet) (1.2.0)\n",
      "Requirement already satisfied: pure-eval in /home/ana/.pyenv/versions/3.10.6/envs/demeter/lib/python3.10/site-packages (from stack-data->ipython>=6.1.0->ipywidgets<9,>=7.6.0->ipyleaflet) (0.2.2)\n",
      "Requirement already satisfied: asttokens>=2.1.0 in /home/ana/.pyenv/versions/3.10.6/envs/demeter/lib/python3.10/site-packages (from stack-data->ipython>=6.1.0->ipywidgets<9,>=7.6.0->ipyleaflet) (2.2.1)\n",
      "Requirement already satisfied: six in /home/ana/.pyenv/versions/3.10.6/envs/demeter/lib/python3.10/site-packages (from asttokens>=2.1.0->stack-data->ipython>=6.1.0->ipywidgets<9,>=7.6.0->ipyleaflet) (1.16.0)\n",
      "Installing collected packages: branca, ipyleaflet\n",
      "Successfully installed branca-0.6.0 ipyleaflet-0.17.2\n"
     ]
    }
   ],
   "source": [
    "!pip install ipyleaflet\n"
   ]
  },
  {
   "cell_type": "code",
   "execution_count": 21,
   "id": "0cb01573",
   "metadata": {},
   "outputs": [
    {
     "ename": "AttributeError",
     "evalue": "url",
     "output_type": "error",
     "traceback": [
      "\u001b[0;31m---------------------------------------------------------------------------\u001b[0m",
      "\u001b[0;31mKeyError\u001b[0m                                  Traceback (most recent call last)",
      "File \u001b[0;32m~/.pyenv/versions/3.10.6/envs/demeter/lib/python3.10/site-packages/xyzservices/lib.py:44\u001b[0m, in \u001b[0;36mBunch.__getattr__\u001b[0;34m(self, key)\u001b[0m\n\u001b[1;32m     43\u001b[0m \u001b[38;5;28;01mtry\u001b[39;00m:\n\u001b[0;32m---> 44\u001b[0m     \u001b[38;5;28;01mreturn\u001b[39;00m \u001b[38;5;28;43mself\u001b[39;49m\u001b[38;5;241;43m.\u001b[39;49m\u001b[38;5;21;43m__getitem__\u001b[39;49m\u001b[43m(\u001b[49m\u001b[43mkey\u001b[49m\u001b[43m)\u001b[49m\n\u001b[1;32m     45\u001b[0m \u001b[38;5;28;01mexcept\u001b[39;00m \u001b[38;5;167;01mKeyError\u001b[39;00m:\n",
      "\u001b[0;31mKeyError\u001b[0m: 'url'",
      "\nDuring handling of the above exception, another exception occurred:\n",
      "\u001b[0;31mAttributeError\u001b[0m                            Traceback (most recent call last)",
      "Cell \u001b[0;32mIn[21], line 4\u001b[0m\n\u001b[1;32m      1\u001b[0m \u001b[38;5;28;01mimport\u001b[39;00m \u001b[38;5;21;01mxyzservices\u001b[39;00m\u001b[38;5;21;01m.\u001b[39;00m\u001b[38;5;21;01mproviders\u001b[39;00m \u001b[38;5;28;01mas\u001b[39;00m \u001b[38;5;21;01mxyz\u001b[39;00m\n\u001b[1;32m      2\u001b[0m xyz\u001b[38;5;241m.\u001b[39mOpenStreetMap\n\u001b[0;32m----> 4\u001b[0m \u001b[43mxyz\u001b[49m\u001b[38;5;241;43m.\u001b[39;49m\u001b[43mOpenStreetMap\u001b[49m\u001b[38;5;241;43m.\u001b[39;49m\u001b[43murl\u001b[49m\n\u001b[1;32m      5\u001b[0m \u001b[38;5;124m'\u001b[39m\u001b[38;5;124mhttps://\u001b[39m\u001b[38;5;132;01m{s}\u001b[39;00m\u001b[38;5;124m.tile.openstreetmap.de/\u001b[39m\u001b[38;5;132;01m{z}\u001b[39;00m\u001b[38;5;124m/\u001b[39m\u001b[38;5;132;01m{x}\u001b[39;00m\u001b[38;5;124m/\u001b[39m\u001b[38;5;132;01m{y}\u001b[39;00m\u001b[38;5;124m.png\u001b[39m\u001b[38;5;124m'\u001b[39m\n\u001b[1;32m      7\u001b[0m xyz\u001b[38;5;241m.\u001b[39mOpenStreetMap\u001b[38;5;241m.\u001b[39mattribution\n",
      "File \u001b[0;32m~/.pyenv/versions/3.10.6/envs/demeter/lib/python3.10/site-packages/xyzservices/lib.py:46\u001b[0m, in \u001b[0;36mBunch.__getattr__\u001b[0;34m(self, key)\u001b[0m\n\u001b[1;32m     44\u001b[0m     \u001b[38;5;28;01mreturn\u001b[39;00m \u001b[38;5;28mself\u001b[39m\u001b[38;5;241m.\u001b[39m\u001b[38;5;21m__getitem__\u001b[39m(key)\n\u001b[1;32m     45\u001b[0m \u001b[38;5;28;01mexcept\u001b[39;00m \u001b[38;5;167;01mKeyError\u001b[39;00m:\n\u001b[0;32m---> 46\u001b[0m     \u001b[38;5;28;01mraise\u001b[39;00m \u001b[38;5;167;01mAttributeError\u001b[39;00m(key)\n",
      "\u001b[0;31mAttributeError\u001b[0m: url"
     ]
    }
   ],
   "source": [
    "import xyzservices.providers as xyz\n",
    "xyz.OpenStreetMap\n",
    "\n",
    "xyz.OpenStreetMap.url\n",
    "'https://{s}.tile.openstreetmap.de/{z}/{x}/{y}.png'\n",
    "\n",
    "xyz.OpenStreetMap.attribution\n",
    "'(C) OpenStreetMap contributors (C) CARTO'"
   ]
  },
  {
   "cell_type": "code",
   "execution_count": null,
   "id": "ddf51cd9",
   "metadata": {},
   "outputs": [],
   "source": []
  }
 ],
 "metadata": {
  "kernelspec": {
   "display_name": "Python 3 (ipykernel)",
   "language": "python",
   "name": "python3"
  },
  "language_info": {
   "codemirror_mode": {
    "name": "ipython",
    "version": 3
   },
   "file_extension": ".py",
   "mimetype": "text/x-python",
   "name": "python",
   "nbconvert_exporter": "python",
   "pygments_lexer": "ipython3",
   "version": "3.10.6"
  },
  "toc": {
   "base_numbering": 1,
   "nav_menu": {},
   "number_sections": true,
   "sideBar": true,
   "skip_h1_title": false,
   "title_cell": "Table of Contents",
   "title_sidebar": "Contents",
   "toc_cell": false,
   "toc_position": {},
   "toc_section_display": true,
   "toc_window_display": false
  }
 },
 "nbformat": 4,
 "nbformat_minor": 5
}
