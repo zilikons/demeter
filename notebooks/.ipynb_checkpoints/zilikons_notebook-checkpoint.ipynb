{
 "cells": [
  {
   "cell_type": "code",
   "execution_count": 1,
   "metadata": {},
   "outputs": [],
   "source": [
    "import geopandas as gpd"
   ]
  },
  {
   "cell_type": "code",
   "execution_count": 3,
   "metadata": {},
   "outputs": [],
   "source": [
    "germany = gpd.read_file('../raw_data/germany.json')"
   ]
  },
  {
   "cell_type": "code",
   "execution_count": 5,
   "metadata": {},
   "outputs": [
    {
     "data": {
      "text/html": [
       "<div>\n",
       "<style scoped>\n",
       "    .dataframe tbody tr th:only-of-type {\n",
       "        vertical-align: middle;\n",
       "    }\n",
       "\n",
       "    .dataframe tbody tr th {\n",
       "        vertical-align: top;\n",
       "    }\n",
       "\n",
       "    .dataframe thead th {\n",
       "        text-align: right;\n",
       "    }\n",
       "</style>\n",
       "<table border=\"1\" class=\"dataframe\">\n",
       "  <thead>\n",
       "    <tr style=\"text-align: right;\">\n",
       "      <th></th>\n",
       "      <th>NAME_3</th>\n",
       "      <th>geometry</th>\n",
       "    </tr>\n",
       "  </thead>\n",
       "  <tbody>\n",
       "    <tr>\n",
       "      <th>0</th>\n",
       "      <td>Allmendingen</td>\n",
       "      <td>MULTIPOLYGON (((9.82220 48.31950, 9.80970 48.3...</td>\n",
       "    </tr>\n",
       "    <tr>\n",
       "      <th>1</th>\n",
       "      <td>Blaubeuren</td>\n",
       "      <td>MULTIPOLYGON (((9.83130 48.45610, 9.83280 48.4...</td>\n",
       "    </tr>\n",
       "    <tr>\n",
       "      <th>2</th>\n",
       "      <td>Blaustein</td>\n",
       "      <td>MULTIPOLYGON (((9.82750 48.45700, 9.82610 48.4...</td>\n",
       "    </tr>\n",
       "    <tr>\n",
       "      <th>3</th>\n",
       "      <td>Dietenheim</td>\n",
       "      <td>MULTIPOLYGON (((10.08380 48.19700, 10.08570 48...</td>\n",
       "    </tr>\n",
       "    <tr>\n",
       "      <th>4</th>\n",
       "      <td>Dornstadt</td>\n",
       "      <td>MULTIPOLYGON (((9.90640 48.43220, 9.90400 48.4...</td>\n",
       "    </tr>\n",
       "    <tr>\n",
       "      <th>...</th>\n",
       "      <td>...</td>\n",
       "      <td>...</td>\n",
       "    </tr>\n",
       "    <tr>\n",
       "      <th>4675</th>\n",
       "      <td>Grammetal</td>\n",
       "      <td>MULTIPOLYGON (((11.26150 50.93760, 11.25890 50...</td>\n",
       "    </tr>\n",
       "    <tr>\n",
       "      <th>4676</th>\n",
       "      <td>Ilmtal-Weinstraße</td>\n",
       "      <td>MULTIPOLYGON (((11.39260 50.99050, 11.39070 50...</td>\n",
       "    </tr>\n",
       "    <tr>\n",
       "      <th>4677</th>\n",
       "      <td>Kranichfeld</td>\n",
       "      <td>MULTIPOLYGON (((11.21320 50.80440, 11.20630 50...</td>\n",
       "    </tr>\n",
       "    <tr>\n",
       "      <th>4678</th>\n",
       "      <td>Mellingen</td>\n",
       "      <td>MULTIPOLYGON (((11.49150 50.89630, 11.49600 50...</td>\n",
       "    </tr>\n",
       "    <tr>\n",
       "      <th>4679</th>\n",
       "      <td>NordkreisWeimar</td>\n",
       "      <td>MULTIPOLYGON (((11.35290 51.02160, 11.33310 51...</td>\n",
       "    </tr>\n",
       "  </tbody>\n",
       "</table>\n",
       "<p>4680 rows × 2 columns</p>\n",
       "</div>"
      ],
      "text/plain": [
       "                 NAME_3                                           geometry\n",
       "0          Allmendingen  MULTIPOLYGON (((9.82220 48.31950, 9.80970 48.3...\n",
       "1            Blaubeuren  MULTIPOLYGON (((9.83130 48.45610, 9.83280 48.4...\n",
       "2             Blaustein  MULTIPOLYGON (((9.82750 48.45700, 9.82610 48.4...\n",
       "3            Dietenheim  MULTIPOLYGON (((10.08380 48.19700, 10.08570 48...\n",
       "4             Dornstadt  MULTIPOLYGON (((9.90640 48.43220, 9.90400 48.4...\n",
       "...                 ...                                                ...\n",
       "4675          Grammetal  MULTIPOLYGON (((11.26150 50.93760, 11.25890 50...\n",
       "4676  Ilmtal-Weinstraße  MULTIPOLYGON (((11.39260 50.99050, 11.39070 50...\n",
       "4677        Kranichfeld  MULTIPOLYGON (((11.21320 50.80440, 11.20630 50...\n",
       "4678          Mellingen  MULTIPOLYGON (((11.49150 50.89630, 11.49600 50...\n",
       "4679    NordkreisWeimar  MULTIPOLYGON (((11.35290 51.02160, 11.33310 51...\n",
       "\n",
       "[4680 rows x 2 columns]"
      ]
     },
     "execution_count": 5,
     "metadata": {},
     "output_type": "execute_result"
    }
   ],
   "source": [
    "germany[['NAME_3','geometry']]"
   ]
  },
  {
   "cell_type": "code",
   "execution_count": null,
   "metadata": {},
   "outputs": [],
   "source": []
  }
 ],
 "metadata": {
  "kernelspec": {
   "display_name": "Python 3 (ipykernel)",
   "language": "python",
   "name": "python3"
  },
  "language_info": {
   "codemirror_mode": {
    "name": "ipython",
    "version": 3
   },
   "file_extension": ".py",
   "mimetype": "text/x-python",
   "name": "python",
   "nbconvert_exporter": "python",
   "pygments_lexer": "ipython3",
   "version": "3.10.6"
  },
  "toc": {
   "base_numbering": 1,
   "nav_menu": {},
   "number_sections": true,
   "sideBar": true,
   "skip_h1_title": false,
   "title_cell": "Table of Contents",
   "title_sidebar": "Contents",
   "toc_cell": false,
   "toc_position": {},
   "toc_section_display": true,
   "toc_window_display": false
  }
 },
 "nbformat": 4,
 "nbformat_minor": 2
}
